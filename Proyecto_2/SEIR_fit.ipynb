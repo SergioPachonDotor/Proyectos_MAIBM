{
 "cells": [
  {
   "cell_type": "code",
   "execution_count": 109,
   "id": "d0dd32a9",
   "metadata": {},
   "outputs": [],
   "source": [
    "import scipy.integrate as sc\n",
    "import matplotlib.pyplot as plt\n",
    "import numpy as np\n",
    "from ode_parameter_estimator import EstimationProblem\n",
    "import pandas as pd\n",
    "from datetime import datetime as dt"
   ]
  },
  {
   "cell_type": "code",
   "execution_count": 61,
   "id": "82269add",
   "metadata": {},
   "outputs": [],
   "source": [
    "def seir_reinfeccion(t, z, *args):\n",
    "    β, ϵ, α, γ = args\n",
    "    S, E, I, R = z\n",
    "    dSdt = -((β*S*I)/N) + ε*R\n",
    "    dEdt =  ((β*S*I)/N) - α*E\n",
    "    dIdt =  α*E   - γ*I\n",
    "    dRdt =  γ*I   - ε*R\n",
    "    return np.array([dSdt, dEdt, dIdt, dRdt])"
   ]
  },
  {
   "cell_type": "code",
   "execution_count": null,
   "id": "2bc43d47",
   "metadata": {},
   "outputs": [],
   "source": [
    "def seir_reinfeccion_2(z, t):\n",
    "    S, E, I, R = z\n",
    "    dSdt = -((β*S*I)/N) + ε*R\n",
    "    dEdt =  ((β*S*I)/N) - α*E\n",
    "    dIdt =  α*E   - γ*I\n",
    "    dRdt =  γ*I   - ε*R\n",
    "    return np.array([dSdt, dEdt, dIdt, dRdt])"
   ]
  },
  {
   "cell_type": "code",
   "execution_count": 32,
   "id": "c03a11c0",
   "metadata": {},
   "outputs": [],
   "source": [
    "city_indx = 2\n",
    "ciudades = ['Bucaramanga', 'Floridablanca', 'Barrancabermeja']\n",
    "df = pd.read_csv(f'Casos_positivos_de_COVID-19_en_Colombia_{ciudades[city_indx]}.csv')\n",
    "df['fecha reporte web']= pd.to_datetime(df['fecha reporte web']).sort_values().to_list()\n",
    "df['Fecha de notificación']= pd.to_datetime(df['Fecha de notificación']).sort_values().to_list()\n",
    "df['Fecha de recuperación']= pd.to_datetime(df['Fecha de recuperación']).sort_values().to_list()\n",
    "df['Fecha de inicio de síntomas'] = pd.to_datetime(df['Fecha de inicio de síntomas']).sort_values().to_list()\n",
    "df['Fecha de diagnóstico'] = pd.to_datetime(df['Fecha de diagnóstico']).sort_values().to_list()\n",
    "indx_timestamp = [15, 7, 4]\n",
    "indx_xlim = [0,0,9900]"
   ]
  },
  {
   "cell_type": "code",
   "execution_count": 33,
   "id": "b6655f35",
   "metadata": {},
   "outputs": [
    {
     "data": {
      "text/plain": [
       "Index(['fecha reporte web', 'ID de caso', 'Fecha de notificación',\n",
       "       'Código DIVIPOLA departamento', 'Nombre departamento',\n",
       "       'Código DIVIPOLA municipio', 'Nombre municipio', 'Edad',\n",
       "       'Unidad de medida de edad', 'Sexo', 'Tipo de contagio',\n",
       "       'Ubicación del caso', 'Estado', 'Código ISO del país',\n",
       "       'Nombre del país', 'Recuperado', 'Fecha de inicio de síntomas',\n",
       "       'Fecha de muerte', 'Fecha de diagnóstico', 'Fecha de recuperación',\n",
       "       'Tipo de recuperación', 'Pertenencia étnica',\n",
       "       'Nombre del grupo étnico'],\n",
       "      dtype='object')"
      ]
     },
     "execution_count": 33,
     "metadata": {},
     "output_type": "execute_result"
    }
   ],
   "source": [
    "df.columns"
   ]
  },
  {
   "cell_type": "code",
   "execution_count": 91,
   "id": "e611c9dc",
   "metadata": {},
   "outputs": [
    {
     "data": {
      "text/plain": [
       "Text(0.5, 1.0, 'Data from: Barrancabermeja')"
      ]
     },
     "execution_count": 91,
     "metadata": {},
     "output_type": "execute_result"
    },
    {
     "data": {
      "image/png": "[encoded data removed]",
      "text/plain": [
       "<Figure size 1080x360 with 1 Axes>"
      ]
     },
     "metadata": {
      "needs_background": "light"
     },
     "output_type": "display_data"
    }
   ],
   "source": [
    "fig, ax = plt.subplots(figsize=(15, 5))\n",
    "data_for_stuff = df.groupby('Fecha de inicio de síntomas').count()\n",
    "data_fixed = data_for_stuff['Fecha de recuperación'].to_numpy()\n",
    "t = np.arange(0, data_fixed.size)\n",
    "ax.plot(data_fixed, marker='o', lw=0, ms=4, color='black', fillstyle='none')\n",
    "ax.set_title(f'Data from: {ciudades[city_indx]}')"
   ]
  },
  {
   "cell_type": "code",
   "execution_count": 85,
   "id": "85245aaa",
   "metadata": {},
   "outputs": [
    {
     "name": "stdout",
     "output_type": "stream",
     "text": [
      "(228,)\n",
      "(228,)\n"
     ]
    }
   ],
   "source": [
    "print(data_fixed.T.shape)\n",
    "print(t.T.shape)\n"
   ]
  },
  {
   "cell_type": "code",
   "execution_count": 99,
   "id": "225696a2",
   "metadata": {},
   "outputs": [],
   "source": [
    "data_array = np.zeros((data_fixed.size, 4))\n",
    "data_array[:,2] = data_fixed"
   ]
  },
  {
   "cell_type": "code",
   "execution_count": 105,
   "id": "17b80602",
   "metadata": {},
   "outputs": [
    {
     "ename": "ValueError",
     "evalue": "Bad initial parameters?",
     "output_type": "error",
     "traceback": [
      "\u001b[1;31m---------------------------------------------------------------------------\u001b[0m",
      "\u001b[1;31mValueError\u001b[0m                                Traceback (most recent call last)",
      "File \u001b[1;32m~\\AppData\\Local\\Programs\\Python\\Python310\\lib\\site-packages\\ode_parameter_estimator\\estimator.py:99\u001b[0m, in \u001b[0;36mEstimationProblem.fit\u001b[1;34m(self, initial_parameters, **curve_fit_kwargs)\u001b[0m\n\u001b[0;32m     98\u001b[0m \u001b[38;5;28;01mtry\u001b[39;00m:\n\u001b[1;32m---> 99\u001b[0m     p,cov,info,mesg,iters \u001b[38;5;241m=\u001b[39m curve_fit(\n\u001b[0;32m    100\u001b[0m         \u001b[38;5;28mself\u001b[39m\u001b[38;5;241m.\u001b[39m__simulate,\n\u001b[0;32m    101\u001b[0m         \u001b[38;5;28mself\u001b[39m\u001b[38;5;241m.\u001b[39m_flat_time,\n\u001b[0;32m    102\u001b[0m         \u001b[38;5;28mself\u001b[39m\u001b[38;5;241m.\u001b[39m__normalize(\u001b[38;5;28mself\u001b[39m\u001b[38;5;241m.\u001b[39mY),\n\u001b[0;32m    103\u001b[0m         p0\u001b[38;5;241m=\u001b[39minitial_parameters,\n\u001b[0;32m    104\u001b[0m         full_output\u001b[38;5;241m=\u001b[39m\u001b[38;5;28;01mTrue\u001b[39;00m,\n\u001b[0;32m    105\u001b[0m         \u001b[38;5;241m*\u001b[39m\u001b[38;5;241m*\u001b[39mcurve_fit_kwargs\n\u001b[0;32m    106\u001b[0m     )\n\u001b[0;32m    107\u001b[0m     \u001b[38;5;28mself\u001b[39m\u001b[38;5;241m.\u001b[39m_p \u001b[38;5;241m=\u001b[39m p\n",
      "File \u001b[1;32m~\\AppData\\Local\\Programs\\Python\\Python310\\lib\\site-packages\\scipy\\optimize\\_minpack_py.py:782\u001b[0m, in \u001b[0;36mcurve_fit\u001b[1;34m(f, xdata, ydata, p0, sigma, absolute_sigma, check_finite, bounds, method, jac, full_output, **kwargs)\u001b[0m\n\u001b[0;32m    781\u001b[0m \u001b[38;5;28;01mif\u001b[39;00m check_finite:\n\u001b[1;32m--> 782\u001b[0m     ydata \u001b[38;5;241m=\u001b[39m \u001b[43mnp\u001b[49m\u001b[38;5;241;43m.\u001b[39;49m\u001b[43masarray_chkfinite\u001b[49m\u001b[43m(\u001b[49m\u001b[43mydata\u001b[49m\u001b[43m,\u001b[49m\u001b[43m \u001b[49m\u001b[38;5;28;43mfloat\u001b[39;49m\u001b[43m)\u001b[49m\n\u001b[0;32m    783\u001b[0m \u001b[38;5;28;01melse\u001b[39;00m:\n",
      "File \u001b[1;32m~\\AppData\\Local\\Programs\\Python\\Python310\\lib\\site-packages\\numpy\\lib\\function_base.py:603\u001b[0m, in \u001b[0;36masarray_chkfinite\u001b[1;34m(a, dtype, order)\u001b[0m\n\u001b[0;32m    602\u001b[0m \u001b[38;5;28;01mif\u001b[39;00m a\u001b[38;5;241m.\u001b[39mdtype\u001b[38;5;241m.\u001b[39mchar \u001b[38;5;129;01min\u001b[39;00m typecodes[\u001b[38;5;124m'\u001b[39m\u001b[38;5;124mAllFloat\u001b[39m\u001b[38;5;124m'\u001b[39m] \u001b[38;5;129;01mand\u001b[39;00m \u001b[38;5;129;01mnot\u001b[39;00m np\u001b[38;5;241m.\u001b[39misfinite(a)\u001b[38;5;241m.\u001b[39mall():\n\u001b[1;32m--> 603\u001b[0m     \u001b[38;5;28;01mraise\u001b[39;00m \u001b[38;5;167;01mValueError\u001b[39;00m(\n\u001b[0;32m    604\u001b[0m         \u001b[38;5;124m\"\u001b[39m\u001b[38;5;124marray must not contain infs or NaNs\u001b[39m\u001b[38;5;124m\"\u001b[39m)\n\u001b[0;32m    605\u001b[0m \u001b[38;5;28;01mreturn\u001b[39;00m a\n",
      "\u001b[1;31mValueError\u001b[0m: array must not contain infs or NaNs",
      "\nDuring handling of the above exception, another exception occurred:\n",
      "\u001b[1;31mValueError\u001b[0m                                Traceback (most recent call last)",
      "Input \u001b[1;32mIn [105]\u001b[0m, in \u001b[0;36m<cell line: 4>\u001b[1;34m()\u001b[0m\n\u001b[0;32m      2\u001b[0m problem \u001b[38;5;241m=\u001b[39m EstimationProblem(t, data_array, seir_reinfeccion)\n\u001b[0;32m      3\u001b[0m promedio_recuperación \u001b[38;5;241m=\u001b[39m np\u001b[38;5;241m.\u001b[39mmean(df[\u001b[38;5;124m'\u001b[39m\u001b[38;5;124mFecha de recuperación\u001b[39m\u001b[38;5;124m'\u001b[39m] \u001b[38;5;241m-\u001b[39m df[\u001b[38;5;124m'\u001b[39m\u001b[38;5;124mFecha de inicio de síntomas\u001b[39m\u001b[38;5;124m'\u001b[39m])\u001b[38;5;241m.\u001b[39mdays\n\u001b[1;32m----> 4\u001b[0m \u001b[43mproblem\u001b[49m\u001b[38;5;241;43m.\u001b[39;49m\u001b[43mfit\u001b[49m\u001b[43m(\u001b[49m\u001b[43m[\u001b[49m\u001b[43m(\u001b[49m\u001b[38;5;241;43m0.1\u001b[39;49m\u001b[43m)\u001b[49m\u001b[43m,\u001b[49m\u001b[43m(\u001b[49m\u001b[38;5;241;43m0.14\u001b[39;49m\u001b[43m)\u001b[49m\u001b[43m,\u001b[49m\u001b[43m(\u001b[49m\u001b[38;5;241;43m0.1\u001b[39;49m\u001b[43m)\u001b[49m\u001b[43m,\u001b[49m\u001b[43m \u001b[49m\u001b[43m(\u001b[49m\u001b[38;5;241;43m0.1\u001b[39;49m\u001b[43m)\u001b[49m\u001b[43m]\u001b[49m\u001b[43m,\u001b[49m\u001b[43m \u001b[49m\u001b[43mrtol\u001b[49m\u001b[38;5;241;43m=\u001b[39;49m\u001b[38;5;241;43m0.001\u001b[39;49m\u001b[43m)\u001b[49m\n",
      "File \u001b[1;32m~\\AppData\\Local\\Programs\\Python\\Python310\\lib\\site-packages\\ode_parameter_estimator\\estimator.py:113\u001b[0m, in \u001b[0;36mEstimationProblem.fit\u001b[1;34m(self, initial_parameters, **curve_fit_kwargs)\u001b[0m\n\u001b[0;32m    111\u001b[0m     \u001b[38;5;28;01mreturn\u001b[39;00m mesg\n\u001b[0;32m    112\u001b[0m \u001b[38;5;28;01mexcept\u001b[39;00m \u001b[38;5;167;01mValueError\u001b[39;00m:\n\u001b[1;32m--> 113\u001b[0m     \u001b[38;5;28;01mraise\u001b[39;00m \u001b[38;5;167;01mValueError\u001b[39;00m(\u001b[38;5;124m\"\u001b[39m\u001b[38;5;124mBad initial parameters?\u001b[39m\u001b[38;5;124m\"\u001b[39m)\n",
      "\u001b[1;31mValueError\u001b[0m: Bad initial parameters?"
     ]
    }
   ],
   "source": [
    "t = np.arange(0, data_fixed.size)\n",
    "problem = EstimationProblem(t, data_array, seir_reinfeccion)\n",
    "promedio_recuperación = np.mean(df['Fecha de recuperación'] - df['Fecha de inicio de síntomas']).days\n",
    "problem.fit([(0.1),(0.14),(0.1), (0.1)], rtol=0.001) # initial guess"
   ]
  },
  {
   "cell_type": "code",
   "execution_count": 110,
   "id": "02b2e507",
   "metadata": {},
   "outputs": [
    {
     "data": {
      "image/png": "[encoded data removed]",
      "text/plain": [
       "<Figure size 1224x864 with 6 Axes>"
      ]
     },
     "metadata": {
      "needs_background": "light"
     },
     "output_type": "display_data"
    }
   ],
   "source": [
    "fig, ax = plt.subplots(3, 2 ,figsize=(17, 12))\n",
    "for city in [0, 1, 2]:\n",
    "    for column_ in [0, 1]:\n",
    "        # Load Data\n",
    "        city_indx = city\n",
    "        ciudades = ['Bucaramanga', 'Floridablanca', 'Barrancabermeja']\n",
    "        df = pd.read_csv(f'Casos_positivos_de_COVID-19_en_Colombia_{ciudades[city_indx]}.csv')\n",
    "        df['fecha reporte web']= pd.to_datetime(df['fecha reporte web']).sort_values().to_list()\n",
    "        df['Fecha de notificación']= pd.to_datetime(df['Fecha de notificación']).sort_values().to_list()\n",
    "        df['Fecha de recuperación']= pd.to_datetime(df['Fecha de recuperación']).sort_values().to_list()\n",
    "        df['Fecha de inicio de síntomas'] = pd.to_datetime(df['Fecha de inicio de síntomas']).sort_values().to_list()\n",
    "        df['Fecha de diagnóstico'] = pd.to_datetime(df['Fecha de diagnóstico']).sort_values().to_list()\n",
    "        indx_timestamp = [21, 8, 8]\n",
    "        \n",
    "        # Set Parameters \n",
    "        poblaciones = [581130, 316200, 191704]\n",
    "        promedio_recuperacion = np.mean(df['Fecha de recuperación'] - df['Fecha de inicio de síntomas']).days\n",
    "        beta_array = [0.034, 0.0318, 0.033]\n",
    "\n",
    "        β = beta_array[city_indx]   # 1/días\n",
    "        α = 1/7                     # 1/días\n",
    "        γ = 1/promedio_recuperacion # 1/días\n",
    "        ε = 1/(30*12)               # 1/días\n",
    "        R_0 = β/γ\n",
    "\n",
    "        # Valores iniciales\n",
    "        S0 = poblaciones[city_indx]\n",
    "        N  = S0 # población de Bucaramanga\n",
    "        E0 = 0\n",
    "        I0 = 1\n",
    "        R0 = 0\n",
    "        C0 = np.array([S0, E0, I0, R0])"
   ]
  },
  {
   "cell_type": "code",
   "execution_count": 17,
   "id": "226631a9",
   "metadata": {},
   "outputs": [
    {
     "ename": "TypeError",
     "evalue": "strptime() argument 1 must be str, not Series",
     "output_type": "error",
     "traceback": [
      "\u001b[1;31m---------------------------------------------------------------------------\u001b[0m",
      "\u001b[1;31mTypeError\u001b[0m                                 Traceback (most recent call last)",
      "Input \u001b[1;32mIn [17]\u001b[0m, in \u001b[0;36m<cell line: 1>\u001b[1;34m()\u001b[0m\n\u001b[1;32m----> 1\u001b[0m \u001b[43mdt\u001b[49m\u001b[38;5;241;43m.\u001b[39;49m\u001b[43mstrptime\u001b[49m\u001b[43m(\u001b[49m\u001b[43mdata\u001b[49m\u001b[43m[\u001b[49m\u001b[38;5;124;43m\"\u001b[39;49m\u001b[38;5;124;43mFecha de notificación\u001b[39;49m\u001b[38;5;124;43m\"\u001b[39;49m\u001b[43m]\u001b[49m\u001b[43m,\u001b[49m\u001b[38;5;124;43m'\u001b[39;49m\u001b[38;5;124;43m%\u001b[39;49m\u001b[38;5;124;43my/\u001b[39;49m\u001b[38;5;124;43m%\u001b[39;49m\u001b[38;5;124;43mm/\u001b[39;49m\u001b[38;5;132;43;01m%d\u001b[39;49;00m\u001b[38;5;124;43m \u001b[39;49m\u001b[38;5;124;43m%\u001b[39;49m\u001b[38;5;124;43mH:\u001b[39;49m\u001b[38;5;124;43m%\u001b[39;49m\u001b[38;5;124;43mM:\u001b[39;49m\u001b[38;5;124;43m%\u001b[39;49m\u001b[38;5;124;43mS\u001b[39;49m\u001b[38;5;124;43m'\u001b[39;49m\u001b[43m)\u001b[49m\n",
      "\u001b[1;31mTypeError\u001b[0m: strptime() argument 1 must be str, not Series"
     ]
    }
   ],
   "source": [
    "dt.strptime(data[\"Fecha de notificación\"],'%y/%m/%d %H:%M:%S')"
   ]
  },
  {
   "cell_type": "code",
   "execution_count": 6,
   "id": "644e9e14",
   "metadata": {},
   "outputs": [],
   "source": [
    "data = pd.read_csv(\"C:/Users/juand/Downloads/Casos_positivos_de_COVID-19_en_Colombia_Bucaramanga.csv\")"
   ]
  },
  {
   "cell_type": "code",
   "execution_count": 11,
   "id": "1b9dc73b",
   "metadata": {},
   "outputs": [
    {
     "data": {
      "text/plain": [
       "0        2020-08-23 00:00:00\n",
       "1        2020-09-30 00:00:00\n",
       "2        2020-09-28 00:00:00\n",
       "3        2020-09-30 00:00:00\n",
       "4        2020-10-01 00:00:00\n",
       "                ...         \n",
       "28725    2020-08-23 00:00:00\n",
       "28726    2020-12-03 00:00:00\n",
       "28727    2020-12-04 00:00:00\n",
       "28728    2020-07-12 00:00:00\n",
       "28729    2020-07-12 00:00:00\n",
       "Name: Fecha de inicio de síntomas, Length: 28730, dtype: object"
      ]
     },
     "execution_count": 11,
     "metadata": {},
     "output_type": "execute_result"
    }
   ],
   "source": [
    "data[\"Fecha de inicio de síntomas\"]"
   ]
  },
  {
   "cell_type": "code",
   "execution_count": 8,
   "id": "9ace6e0c",
   "metadata": {},
   "outputs": [
    {
     "data": {
      "text/plain": [
       "0        2020-08-27 00:00:00\n",
       "1        2020-10-05 00:00:00\n",
       "2        2020-10-03 00:00:00\n",
       "3        2020-10-05 00:00:00\n",
       "4        2020-10-06 00:00:00\n",
       "                ...         \n",
       "28725    2020-08-25 00:00:00\n",
       "28726    2020-12-04 00:00:00\n",
       "28727    2020-12-05 00:00:00\n",
       "28728    2020-07-23 00:00:00\n",
       "28729    2020-07-20 00:00:00\n",
       "Name: Fecha de notificación, Length: 28730, dtype: object"
      ]
     },
     "execution_count": 8,
     "metadata": {},
     "output_type": "execute_result"
    }
   ],
   "source": [
    "data[\"Fecha de notificación\"]"
   ]
  },
  {
   "cell_type": "code",
   "execution_count": 111,
   "id": "6a60752f",
   "metadata": {},
   "outputs": [
    {
     "ename": "ValueError",
     "evalue": "not enough values to unpack (expected 4, got 0)",
     "output_type": "error",
     "traceback": [
      "\u001b[1;31m---------------------------------------------------------------------------\u001b[0m",
      "\u001b[1;31mValueError\u001b[0m                                Traceback (most recent call last)",
      "Input \u001b[1;32mIn [111]\u001b[0m, in \u001b[0;36m<cell line: 2>\u001b[1;34m()\u001b[0m\n\u001b[0;32m     38\u001b[0m t \u001b[38;5;241m=\u001b[39m np\u001b[38;5;241m.\u001b[39mlinspace(\u001b[38;5;241m0\u001b[39m,tmax, steps)\n\u001b[0;32m     40\u001b[0m        \u001b[38;5;66;03m# Simulación\u001b[39;00m\n\u001b[1;32m---> 41\u001b[0m sol \u001b[38;5;241m=\u001b[39m \u001b[43msc\u001b[49m\u001b[38;5;241;43m.\u001b[39;49m\u001b[43modeint\u001b[49m\u001b[43m(\u001b[49m\u001b[43mseir_reinfeccion\u001b[49m\u001b[43m,\u001b[49m\u001b[43m \u001b[49m\u001b[43mC0\u001b[49m\u001b[43m \u001b[49m\u001b[43m,\u001b[49m\u001b[43mt\u001b[49m\u001b[43m)\u001b[49m\n\u001b[0;32m     42\u001b[0m sol_S \u001b[38;5;241m=\u001b[39m sol[:,\u001b[38;5;241m0\u001b[39m]\n\u001b[0;32m     43\u001b[0m sol_E \u001b[38;5;241m=\u001b[39m sol[:,\u001b[38;5;241m1\u001b[39m]\n",
      "File \u001b[1;32m~\\AppData\\Local\\Programs\\Python\\Python310\\lib\\site-packages\\scipy\\integrate\\_odepack_py.py:241\u001b[0m, in \u001b[0;36modeint\u001b[1;34m(func, y0, t, args, Dfun, col_deriv, full_output, ml, mu, rtol, atol, tcrit, h0, hmax, hmin, ixpr, mxstep, mxhnil, mxordn, mxords, printmessg, tfirst)\u001b[0m\n\u001b[0;32m    239\u001b[0m t \u001b[38;5;241m=\u001b[39m copy(t)\n\u001b[0;32m    240\u001b[0m y0 \u001b[38;5;241m=\u001b[39m copy(y0)\n\u001b[1;32m--> 241\u001b[0m output \u001b[38;5;241m=\u001b[39m \u001b[43m_odepack\u001b[49m\u001b[38;5;241;43m.\u001b[39;49m\u001b[43modeint\u001b[49m\u001b[43m(\u001b[49m\u001b[43mfunc\u001b[49m\u001b[43m,\u001b[49m\u001b[43m \u001b[49m\u001b[43my0\u001b[49m\u001b[43m,\u001b[49m\u001b[43m \u001b[49m\u001b[43mt\u001b[49m\u001b[43m,\u001b[49m\u001b[43m \u001b[49m\u001b[43margs\u001b[49m\u001b[43m,\u001b[49m\u001b[43m \u001b[49m\u001b[43mDfun\u001b[49m\u001b[43m,\u001b[49m\u001b[43m \u001b[49m\u001b[43mcol_deriv\u001b[49m\u001b[43m,\u001b[49m\u001b[43m \u001b[49m\u001b[43mml\u001b[49m\u001b[43m,\u001b[49m\u001b[43m \u001b[49m\u001b[43mmu\u001b[49m\u001b[43m,\u001b[49m\n\u001b[0;32m    242\u001b[0m \u001b[43m                         \u001b[49m\u001b[43mfull_output\u001b[49m\u001b[43m,\u001b[49m\u001b[43m \u001b[49m\u001b[43mrtol\u001b[49m\u001b[43m,\u001b[49m\u001b[43m \u001b[49m\u001b[43matol\u001b[49m\u001b[43m,\u001b[49m\u001b[43m \u001b[49m\u001b[43mtcrit\u001b[49m\u001b[43m,\u001b[49m\u001b[43m \u001b[49m\u001b[43mh0\u001b[49m\u001b[43m,\u001b[49m\u001b[43m \u001b[49m\u001b[43mhmax\u001b[49m\u001b[43m,\u001b[49m\u001b[43m \u001b[49m\u001b[43mhmin\u001b[49m\u001b[43m,\u001b[49m\n\u001b[0;32m    243\u001b[0m \u001b[43m                         \u001b[49m\u001b[43mixpr\u001b[49m\u001b[43m,\u001b[49m\u001b[43m \u001b[49m\u001b[43mmxstep\u001b[49m\u001b[43m,\u001b[49m\u001b[43m \u001b[49m\u001b[43mmxhnil\u001b[49m\u001b[43m,\u001b[49m\u001b[43m \u001b[49m\u001b[43mmxordn\u001b[49m\u001b[43m,\u001b[49m\u001b[43m \u001b[49m\u001b[43mmxords\u001b[49m\u001b[43m,\u001b[49m\n\u001b[0;32m    244\u001b[0m \u001b[43m                         \u001b[49m\u001b[38;5;28;43mint\u001b[39;49m\u001b[43m(\u001b[49m\u001b[38;5;28;43mbool\u001b[39;49m\u001b[43m(\u001b[49m\u001b[43mtfirst\u001b[49m\u001b[43m)\u001b[49m\u001b[43m)\u001b[49m\u001b[43m)\u001b[49m\n\u001b[0;32m    245\u001b[0m \u001b[38;5;28;01mif\u001b[39;00m output[\u001b[38;5;241m-\u001b[39m\u001b[38;5;241m1\u001b[39m] \u001b[38;5;241m<\u001b[39m \u001b[38;5;241m0\u001b[39m:\n\u001b[0;32m    246\u001b[0m     warning_msg \u001b[38;5;241m=\u001b[39m _msgs[output[\u001b[38;5;241m-\u001b[39m\u001b[38;5;241m1\u001b[39m]] \u001b[38;5;241m+\u001b[39m \u001b[38;5;124m\"\u001b[39m\u001b[38;5;124m Run with full_output = 1 to get quantitative information.\u001b[39m\u001b[38;5;124m\"\u001b[39m\n",
      "Input \u001b[1;32mIn [61]\u001b[0m, in \u001b[0;36mseir_reinfeccion\u001b[1;34m(t, z, *args)\u001b[0m\n\u001b[0;32m      1\u001b[0m \u001b[38;5;28;01mdef\u001b[39;00m \u001b[38;5;21mseir_reinfeccion\u001b[39m(t, z, \u001b[38;5;241m*\u001b[39margs):\n\u001b[1;32m----> 2\u001b[0m     β, ϵ, α, γ \u001b[38;5;241m=\u001b[39m args\n\u001b[0;32m      3\u001b[0m     S, E, I, R \u001b[38;5;241m=\u001b[39m z\n\u001b[0;32m      4\u001b[0m     dSdt \u001b[38;5;241m=\u001b[39m \u001b[38;5;241m-\u001b[39m((β\u001b[38;5;241m*\u001b[39mS\u001b[38;5;241m*\u001b[39mI)\u001b[38;5;241m/\u001b[39mN) \u001b[38;5;241m+\u001b[39m ε\u001b[38;5;241m*\u001b[39mR\n",
      "\u001b[1;31mValueError\u001b[0m: not enough values to unpack (expected 4, got 0)"
     ]
    },
    {
     "data": {
      "image/png": "[encoded data removed]",
      "text/plain": [
       "<Figure size 1224x864 with 6 Axes>"
      ]
     },
     "metadata": {
      "needs_background": "light"
     },
     "output_type": "display_data"
    }
   ],
   "source": [
    "fig, ax = plt.subplots(3, 2 ,figsize=(17, 12))\n",
    "for city in [0, 1, 2]:\n",
    "    for column_ in [0, 1]:\n",
    "        # Load Data\n",
    "        city_indx = city\n",
    "        ciudades = ['Bucaramanga', 'Floridablanca', 'Barrancabermeja']\n",
    "        df = pd.read_csv(f'Casos_positivos_de_COVID-19_en_Colombia_{ciudades[city_indx]}.csv')\n",
    "        df['fecha reporte web']= pd.to_datetime(df['fecha reporte web']).sort_values().to_list()\n",
    "        df['Fecha de notificación']= pd.to_datetime(df['Fecha de notificación']).sort_values().to_list()\n",
    "        df['Fecha de recuperación']= pd.to_datetime(df['Fecha de recuperación']).sort_values().to_list()\n",
    "        df['Fecha de inicio de síntomas'] = pd.to_datetime(df['Fecha de inicio de síntomas']).sort_values().to_list()\n",
    "        df['Fecha de diagnóstico'] = pd.to_datetime(df['Fecha de diagnóstico']).sort_values().to_list()\n",
    "        indx_timestamp = [21, 8, 8]\n",
    "        \n",
    "        # Set Parameters \n",
    "        poblaciones = [581130, 316200, 191704]\n",
    "        promedio_recuperacion = np.mean(df['Fecha de recuperación'] - df['Fecha de inicio de síntomas']).days\n",
    "        beta_array = [0.034, 0.0318, 0.033]\n",
    "\n",
    "        β = beta_array[city_indx]   # 1/días\n",
    "        α = 1/7                     # 1/días\n",
    "        γ = 1/promedio_recuperacion # 1/días\n",
    "        ε = 1/(30*12)               # 1/días\n",
    "        R_0 = β/γ\n",
    "\n",
    "        # Valores iniciales\n",
    "        S0 = poblaciones[city_indx]\n",
    "        N  = S0 # población de Bucaramanga\n",
    "        E0 = 0\n",
    "        I0 = 1\n",
    "        R0 = 0\n",
    "        C0 = np.array([S0, E0, I0, R0])\n",
    "\n",
    "        # Simulation Time\n",
    "        dt = 0.01\n",
    "        tmax = (df['Fecha de inicio de síntomas'].max() - df['Fecha de inicio de síntomas'][indx_timestamp[city_indx]]).days * 24 # días * 24 = horas\n",
    "        steps = int(tmax/dt)\n",
    "        t = np.linspace(0,tmax, steps)\n",
    "        \n",
    "               # Simulación\n",
    "        sol = sc.odeint(seir_reinfeccion, C0 ,t)\n",
    "        sol_S = sol[:,0]\n",
    "        sol_E = sol[:,1]\n",
    "        sol_I = sol[:,2]\n",
    "        sol_R = sol[:,3]\n",
    "        \n",
    "        # Plot\n",
    "        dias = len(df['Fecha de inicio de síntomas'].unique().tolist())\n",
    "        ax[city, 0].hist(df['Fecha de inicio de síntomas'], bins=dias, color='red', alpha=0.8, label='Infectados reportados')\n",
    "        \n",
    "        # lab\n",
    "        labels = [item*30 for item in range(1, len(ax[city, 0].get_xticklabels()) + 1)];\n",
    "        ax[city, 0].set_xticklabels(labels);\n",
    "\n",
    "        # lab\n",
    "        ax[city, 1].plot(t/24, sol_I, label='Modelo', color='black', ls='-')\n",
    "\n",
    "        # Grid\n",
    "        ax[city, column_].grid(True)\n",
    "\n",
    "        # Limits\n",
    "        ax[city, 0].set_xlim(df['Fecha de inicio de síntomas'][indx_timestamp[city_indx]], df['Fecha de inicio de síntomas'].max())\n",
    "        ax[city, 1].set_xlim(0, 210)\n",
    "        ax[city, 1].set_ylim(0)\n",
    "\n",
    "        # Labeling\n",
    "        ax[city, 0].set_title(f'Individuos reportados como infecciosos en {ciudades[city_indx]}')\n",
    "        ax[city, 1].set_title(f'Modelo SEIR con reinfección ajustado para {ciudades[city_indx]}')\n",
    "\n",
    "    print('\\n')\n",
    "    print('-' * 100)\n",
    "    print(f'Ciudad: {ciudades[city]}')\n",
    "    print(f'β = {β}')\n",
    "    print(f'γ  = {γ}')\n",
    "    print(f'R_0 = {R_0}')\n",
    "\n",
    "ax[0, 0].set_ylabel('Individuos')\n",
    "ax[1, 0].set_ylabel('Individuos')\n",
    "ax[2, 0].set_ylabel('Individuos')\n",
    "ax[2, 0].set_xlabel('Tiempo (días)')\n",
    "ax[2, 1].set_xlabel('Tiempo (días)')"
   ]
  },
  {
   "cell_type": "code",
   "execution_count": null,
   "id": "d2f551fc",
   "metadata": {},
   "outputs": [],
   "source": []
  }
 ],
 "metadata": {
  "kernelspec": {
   "display_name": "Python 3.10.6 64-bit",
   "language": "python",
   "name": "python3"
  },
  "language_info": {
   "codemirror_mode": {
    "name": "ipython",
    "version": 3
   },
   "file_extension": ".py",
   "mimetype": "text/x-python",
   "name": "python",
   "nbconvert_exporter": "python",
   "pygments_lexer": "ipython3",
   "version": "3.10.6"
  },
  "vscode": {
   "interpreter": {
    "hash": "916dbcbb3f70747c44a77c7bcd40155683ae19c65e1c03b4aa3499c5328201f1"
   }
  }
 },
 "nbformat": 4,
 "nbformat_minor": 5
}
