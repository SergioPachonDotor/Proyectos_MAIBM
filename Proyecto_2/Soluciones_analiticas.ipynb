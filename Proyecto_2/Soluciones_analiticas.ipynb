{
 "cells": [
  {
   "cell_type": "code",
   "execution_count": 1009,
   "metadata": {},
   "outputs": [],
   "source": [
    "import numpy as np\n",
    "import sympy as sym\n",
    "from scipy.integrate import odeint"
   ]
  },
  {
   "cell_type": "markdown",
   "metadata": {},
   "source": [
    "#### Modelo SEIR básico:"
   ]
  },
  {
   "cell_type": "markdown",
   "metadata": {},
   "source": [
    "$$\n",
    "\\dot{S} = -\\frac{\\beta S I}{N}\n",
    "$$\n",
    "\n",
    "$$\n",
    "\\dot{E} = \\frac{\\beta S I}{N} - \\alpha E\n",
    "$$\n",
    "\n",
    "$$\n",
    "\\dot{I} = \\alpha E - \\gamma I\n",
    "$$\n",
    "\n",
    "$$\n",
    "\\dot{R} = \\gamma I\n",
    "$$"
   ]
  },
  {
   "cell_type": "code",
   "execution_count": 1010,
   "metadata": {},
   "outputs": [],
   "source": [
    "S, E, I, R, β, γ, α, ε , κ_1, κ_2, V, N = sym.symbols('S, E, I, R, β, γ, α, ε , κ_1, κ_2, V, N')\n",
    "\n",
    "dSdt = -β*S*(I/N)\n",
    "dEdt =  β*S*(I/N) - α*E\n",
    "dIdt =  α*E   - γ*I\n",
    "dRdt =  γ*I"
   ]
  },
  {
   "cell_type": "markdown",
   "metadata": {},
   "source": [
    "Resolver el sistema para hallar equilibrios: "
   ]
  },
  {
   "cell_type": "code",
   "execution_count": 1011,
   "metadata": {},
   "outputs": [
    {
     "data": {
      "text/plain": [
       "(S, 0, 0, R)"
      ]
     },
     "execution_count": 1011,
     "metadata": {},
     "output_type": "execute_result"
    }
   ],
   "source": [
    "solucion_SEIR_basico = sym.solve([dSdt, dEdt, dIdt, dRdt], [S, E, I, R])\n",
    "solucion_SEIR_basico[0]"
   ]
  },
  {
   "cell_type": "code",
   "execution_count": 1012,
   "metadata": {},
   "outputs": [
    {
     "data": {
      "text/latex": [
       "$\\displaystyle \\left[\\begin{matrix}\\frac{I S β}{N}\\\\0\\end{matrix}\\right]$"
      ],
      "text/plain": [
       "Matrix([\n",
       "[I*S*β/N],\n",
       "[      0]])"
      ]
     },
     "execution_count": 1012,
     "metadata": {},
     "output_type": "execute_result"
    }
   ],
   "source": [
    "# Aquello que incrementa el número de infectados.\n",
    "F0 = sym.Matrix([β*S*(I/N), 0])\n",
    "F0"
   ]
  },
  {
   "cell_type": "code",
   "execution_count": 1013,
   "metadata": {},
   "outputs": [
    {
     "data": {
      "text/latex": [
       "$\\displaystyle \\left[\\begin{matrix}E α\\\\- E α + I γ\\end{matrix}\\right]$"
      ],
      "text/plain": [
       "Matrix([\n",
       "[       E*α],\n",
       "[-E*α + I*γ]])"
      ]
     },
     "execution_count": 1013,
     "metadata": {},
     "output_type": "execute_result"
    }
   ],
   "source": [
    "UVE = sym.Matrix([α*E, - α*E + γ*I])\n",
    "UVE"
   ]
  },
  {
   "cell_type": "code",
   "execution_count": 1014,
   "metadata": {},
   "outputs": [
    {
     "data": {
      "text/latex": [
       "$\\displaystyle \\left[\\begin{matrix}E\\\\I\\end{matrix}\\right]$"
      ],
      "text/plain": [
       "Matrix([\n",
       "[E],\n",
       "[I]])"
      ]
     },
     "execution_count": 1014,
     "metadata": {},
     "output_type": "execute_result"
    }
   ],
   "source": [
    "VAR = sym.Matrix([E, I])\n",
    "VAR"
   ]
  },
  {
   "cell_type": "code",
   "execution_count": 1015,
   "metadata": {},
   "outputs": [],
   "source": [
    "F = F0.jacobian(VAR)\n",
    "V = UVE.jacobian(VAR)"
   ]
  },
  {
   "cell_type": "code",
   "execution_count": 1016,
   "metadata": {},
   "outputs": [
    {
     "data": {
      "text/latex": [
       "$\\displaystyle \\left[\\begin{matrix}0 & \\frac{S β}{N}\\\\0 & 0\\end{matrix}\\right]$"
      ],
      "text/plain": [
       "Matrix([\n",
       "[0, S*β/N],\n",
       "[0,     0]])"
      ]
     },
     "execution_count": 1016,
     "metadata": {},
     "output_type": "execute_result"
    }
   ],
   "source": [
    "F"
   ]
  },
  {
   "cell_type": "code",
   "execution_count": 1017,
   "metadata": {},
   "outputs": [
    {
     "data": {
      "text/latex": [
       "$\\displaystyle \\left[\\begin{matrix}α & 0\\\\- α & γ\\end{matrix}\\right]$"
      ],
      "text/plain": [
       "Matrix([\n",
       "[ α, 0],\n",
       "[-α, γ]])"
      ]
     },
     "execution_count": 1017,
     "metadata": {},
     "output_type": "execute_result"
    }
   ],
   "source": [
    "V"
   ]
  },
  {
   "cell_type": "code",
   "execution_count": 1018,
   "metadata": {},
   "outputs": [
    {
     "data": {
      "text/latex": [
       "$\\displaystyle \\left[\\begin{matrix}\\frac{S β}{N γ} & \\frac{S β}{N γ}\\\\0 & 0\\end{matrix}\\right]$"
      ],
      "text/plain": [
       "Matrix([\n",
       "[S*β/(N*γ), S*β/(N*γ)],\n",
       "[        0,         0]])"
      ]
     },
     "execution_count": 1018,
     "metadata": {},
     "output_type": "execute_result"
    }
   ],
   "source": [
    "DFE = solucion_SEIR_basico[0]\n",
    "sDFE = DFE[0]\n",
    "eDFE = DFE[1]\n",
    "iDFE = DFE[2]\n",
    "rDFE = DFE[3]\n",
    "\n",
    "F1 = F.subs(S, sDFE).subs(E, eDFE).subs(I, iDFE).subs(R, rDFE)\n",
    "V1 = V.subs(S, sDFE).subs(E, eDFE).subs(I, iDFE).subs(R, rDFE)\n",
    "V1invertida = V1.inv()\n",
    "NGM = F1*V1invertida\n",
    "NGM"
   ]
  },
  {
   "cell_type": "markdown",
   "metadata": {},
   "source": [
    "### Por lo tanto, $R_{0}$ es: "
   ]
  },
  {
   "cell_type": "code",
   "execution_count": 1019,
   "metadata": {},
   "outputs": [
    {
     "data": {
      "text/latex": [
       "$\\displaystyle \\frac{S β}{N γ}$"
      ],
      "text/plain": [
       "S*β/(N*γ)"
      ]
     },
     "execution_count": 1019,
     "metadata": {},
     "output_type": "execute_result"
    }
   ],
   "source": [
    "list(NGM.eigenvals().keys())[1]"
   ]
  },
  {
   "cell_type": "markdown",
   "metadata": {},
   "source": [
    "#### Dado que S es igual a N debido a que N = S + E + I + R y el punto de equilibrio libre de infección es (S=población inicial, E=0 I=0, R=0) entonces tendríamos N = S"
   ]
  },
  {
   "cell_type": "code",
   "execution_count": 1020,
   "metadata": {},
   "outputs": [
    {
     "data": {
      "text/latex": [
       "$\\displaystyle \\frac{β}{γ}$"
      ],
      "text/plain": [
       "β/γ"
      ]
     },
     "execution_count": 1020,
     "metadata": {},
     "output_type": "execute_result"
    }
   ],
   "source": [
    "list(NGM.eigenvals().keys())[1].subs(S, N)"
   ]
  },
  {
   "cell_type": "markdown",
   "metadata": {},
   "source": [
    "#### Modelo SEIR con inmunidad incompleta o reinfección"
   ]
  },
  {
   "cell_type": "markdown",
   "metadata": {},
   "source": [
    "$$\n",
    "\\dot{S} = -\\frac{\\beta S I}{N} + \\epsilon R\n",
    "$$\n",
    "\n",
    "$$\n",
    "\\dot{E} = \\frac{\\beta S I}{N} - \\alpha E\n",
    "$$\n",
    "\n",
    "$$\n",
    "\\dot{I} = \\alpha E - \\gamma I\n",
    "$$\n",
    "\n",
    "$$\n",
    "\\dot{R} = \\gamma I - \\epsilon R\n",
    "$$"
   ]
  },
  {
   "cell_type": "code",
   "execution_count": 1021,
   "metadata": {},
   "outputs": [],
   "source": [
    "S, E, I, R, β, γ, α, ε , κ_1, κ_2, V, N = sym.symbols('S, E, I, R, β, γ, α, ε , κ_1, κ_2, V, N')\n",
    "\n",
    "dSdt = -β*S*(I/N) + ε*R\n",
    "dEdt =  β*S*(I/N) - α*E\n",
    "dIdt =  α*E   - γ*I\n",
    "dRdt =  γ*I   - ε*R"
   ]
  },
  {
   "cell_type": "code",
   "execution_count": 1022,
   "metadata": {},
   "outputs": [
    {
     "data": {
      "text/plain": [
       "[(S, 0, 0, 0), (N*γ/β, R*ε/α, R*ε/γ, R)]"
      ]
     },
     "execution_count": 1022,
     "metadata": {},
     "output_type": "execute_result"
    }
   ],
   "source": [
    "solucion_SEIR_reinfeccion = sym.solve([dSdt, dEdt, dIdt, dRdt], [S, E, I, R])\n",
    "solucion_SEIR_reinfeccion"
   ]
  },
  {
   "cell_type": "code",
   "execution_count": 1023,
   "metadata": {},
   "outputs": [
    {
     "data": {
      "text/latex": [
       "$\\displaystyle \\left[\\begin{matrix}\\frac{I S β}{N}\\\\0\\end{matrix}\\right]$"
      ],
      "text/plain": [
       "Matrix([\n",
       "[I*S*β/N],\n",
       "[      0]])"
      ]
     },
     "execution_count": 1023,
     "metadata": {},
     "output_type": "execute_result"
    }
   ],
   "source": [
    "F0 = sym.Matrix([β*S*(I/N), 0])\n",
    "F0"
   ]
  },
  {
   "cell_type": "code",
   "execution_count": 1024,
   "metadata": {},
   "outputs": [
    {
     "data": {
      "text/latex": [
       "$\\displaystyle \\left[\\begin{matrix}E α\\\\- E α + I γ\\end{matrix}\\right]$"
      ],
      "text/plain": [
       "Matrix([\n",
       "[       E*α],\n",
       "[-E*α + I*γ]])"
      ]
     },
     "execution_count": 1024,
     "metadata": {},
     "output_type": "execute_result"
    }
   ],
   "source": [
    "UVE = sym.Matrix([α*E, - α*E + γ*I])\n",
    "UVE"
   ]
  },
  {
   "cell_type": "code",
   "execution_count": 1025,
   "metadata": {},
   "outputs": [
    {
     "data": {
      "text/latex": [
       "$\\displaystyle \\left[\\begin{matrix}E\\\\I\\end{matrix}\\right]$"
      ],
      "text/plain": [
       "Matrix([\n",
       "[E],\n",
       "[I]])"
      ]
     },
     "execution_count": 1025,
     "metadata": {},
     "output_type": "execute_result"
    }
   ],
   "source": [
    "VAR = sym.Matrix([E, I])\n",
    "VAR"
   ]
  },
  {
   "cell_type": "code",
   "execution_count": 1026,
   "metadata": {},
   "outputs": [],
   "source": [
    "F = F0.jacobian(VAR)\n",
    "V = UVE.jacobian(VAR)"
   ]
  },
  {
   "cell_type": "code",
   "execution_count": 1027,
   "metadata": {},
   "outputs": [
    {
     "data": {
      "text/latex": [
       "$\\displaystyle \\left[\\begin{matrix}0 & \\frac{S β}{N}\\\\0 & 0\\end{matrix}\\right]$"
      ],
      "text/plain": [
       "Matrix([\n",
       "[0, S*β/N],\n",
       "[0,     0]])"
      ]
     },
     "execution_count": 1027,
     "metadata": {},
     "output_type": "execute_result"
    }
   ],
   "source": [
    "F"
   ]
  },
  {
   "cell_type": "code",
   "execution_count": 1028,
   "metadata": {},
   "outputs": [
    {
     "data": {
      "text/latex": [
       "$\\displaystyle \\left[\\begin{matrix}α & 0\\\\- α & γ\\end{matrix}\\right]$"
      ],
      "text/plain": [
       "Matrix([\n",
       "[ α, 0],\n",
       "[-α, γ]])"
      ]
     },
     "execution_count": 1028,
     "metadata": {},
     "output_type": "execute_result"
    }
   ],
   "source": [
    "V"
   ]
  },
  {
   "cell_type": "markdown",
   "metadata": {},
   "source": [
    "Equilibrio libre de infección"
   ]
  },
  {
   "cell_type": "code",
   "execution_count": 1029,
   "metadata": {},
   "outputs": [
    {
     "data": {
      "text/latex": [
       "$\\displaystyle \\left[\\begin{matrix}\\frac{S β}{N γ} & \\frac{S β}{N γ}\\\\0 & 0\\end{matrix}\\right]$"
      ],
      "text/plain": [
       "Matrix([\n",
       "[S*β/(N*γ), S*β/(N*γ)],\n",
       "[        0,         0]])"
      ]
     },
     "execution_count": 1029,
     "metadata": {},
     "output_type": "execute_result"
    }
   ],
   "source": [
    "DFE = solucion_SEIR_reinfeccion[0]\n",
    "sDFE = DFE[0]\n",
    "eDFE = DFE[1]\n",
    "iDFE = DFE[2]\n",
    "rDFE = DFE[3]\n",
    "\n",
    "F1 = F.subs(S, sDFE).subs(E, eDFE).subs(I, iDFE).subs(R, rDFE)\n",
    "V1 = V.subs(S, sDFE).subs(E, eDFE).subs(I, iDFE).subs(R, rDFE)\n",
    "V1invertida = V1.inv()\n",
    "NGM = F1*V1invertida\n",
    "NGM"
   ]
  },
  {
   "cell_type": "markdown",
   "metadata": {},
   "source": [
    "$ R_{0} :$"
   ]
  },
  {
   "cell_type": "code",
   "execution_count": 1030,
   "metadata": {},
   "outputs": [
    {
     "data": {
      "text/latex": [
       "$\\displaystyle \\frac{S β}{N γ}$"
      ],
      "text/plain": [
       "S*β/(N*γ)"
      ]
     },
     "execution_count": 1030,
     "metadata": {},
     "output_type": "execute_result"
    }
   ],
   "source": [
    "list(NGM.eigenvals().keys())[1]"
   ]
  },
  {
   "cell_type": "markdown",
   "metadata": {},
   "source": [
    "#### Dado que S es igual a N debido a que N = S + E + I + R y el punto de equilibrio libre de infección es (S=población inicial, E=0 I=0, R=0) entonces tendríamos N = S"
   ]
  },
  {
   "cell_type": "code",
   "execution_count": 1031,
   "metadata": {},
   "outputs": [
    {
     "data": {
      "text/latex": [
       "$\\displaystyle \\frac{β}{γ}$"
      ],
      "text/plain": [
       "β/γ"
      ]
     },
     "execution_count": 1031,
     "metadata": {},
     "output_type": "execute_result"
    }
   ],
   "source": [
    "list(NGM.eigenvals().keys())[1].subs(S, N)"
   ]
  },
  {
   "cell_type": "markdown",
   "metadata": {},
   "source": [
    "Segundo punto de equilibrio: Enfermedad endémica."
   ]
  },
  {
   "cell_type": "code",
   "execution_count": 1032,
   "metadata": {},
   "outputs": [
    {
     "data": {
      "text/latex": [
       "$\\displaystyle \\left[\\begin{matrix}1 & 1\\\\0 & 0\\end{matrix}\\right]$"
      ],
      "text/plain": [
       "Matrix([\n",
       "[1, 1],\n",
       "[0, 0]])"
      ]
     },
     "execution_count": 1032,
     "metadata": {},
     "output_type": "execute_result"
    }
   ],
   "source": [
    "DFE = solucion_SEIR_reinfeccion[1]\n",
    "sDFE = DFE[0]\n",
    "eDFE = DFE[1]\n",
    "iDFE = DFE[2]\n",
    "rDFE = DFE[3]\n",
    "\n",
    "F1 = F.subs(S, sDFE).subs(E, eDFE).subs(I, iDFE).subs(R, rDFE)\n",
    "V1 = V.subs(S, sDFE).subs(E, eDFE).subs(I, iDFE).subs(R, rDFE)\n",
    "V1invertida = V1.inv()\n",
    "NGM = F1*V1invertida\n",
    "NGM"
   ]
  },
  {
   "cell_type": "markdown",
   "metadata": {},
   "source": [
    "$ R_{0} :$"
   ]
  },
  {
   "cell_type": "code",
   "execution_count": 1033,
   "metadata": {},
   "outputs": [
    {
     "data": {
      "text/latex": [
       "$\\displaystyle 1$"
      ],
      "text/plain": [
       "1"
      ]
     },
     "execution_count": 1033,
     "metadata": {},
     "output_type": "execute_result"
    }
   ],
   "source": [
    "list(NGM.eigenvals().keys())[1]"
   ]
  },
  {
   "cell_type": "markdown",
   "metadata": {},
   "source": [
    "#### Modelo SEIRV con vacunación: "
   ]
  },
  {
   "cell_type": "markdown",
   "metadata": {},
   "source": [
    "$$\n",
    "\\dot{S} = -\\beta S I - \\kappa_{1} S + \\kappa_{2} V\n",
    "$$\n",
    "\n",
    "$$\n",
    "\\dot{E} = \\beta S I - \\alpha E\n",
    "$$\n",
    "\n",
    "$$\n",
    "\\dot{I} = \\alpha E - \\gamma I\n",
    "$$\n",
    "\n",
    "$$\n",
    "\\dot{R} = \\gamma I \n",
    "$$\n",
    "\n",
    "$$\n",
    "\\dot{V} = \\kappa_{1} S - \\kappa_{2} V\n",
    "$$"
   ]
  },
  {
   "cell_type": "code",
   "execution_count": 1034,
   "metadata": {},
   "outputs": [],
   "source": [
    "S, E, I, R, β, γ, α, ε , κ_1, κ_2, V, N = sym.symbols('S, E, I, R, β, γ, α, ε , κ_1, κ_2, V, N')\n",
    "dSdt = -β*S*I - κ_1*S + κ_2*V\n",
    "dEdt =  β*S*I - α*E\n",
    "dIdt =  α*E   - γ*I\n",
    "dRdt =  γ*I\n",
    "dVdt =  κ_1*S - κ_2*V"
   ]
  },
  {
   "cell_type": "code",
   "execution_count": 1035,
   "metadata": {},
   "outputs": [
    {
     "data": {
      "text/plain": [
       "[(V*κ_2/κ_1, 0, 0, R, V)]"
      ]
     },
     "execution_count": 1035,
     "metadata": {},
     "output_type": "execute_result"
    }
   ],
   "source": [
    "vacunacion_solution = sym.solve([dSdt, dEdt, dIdt, dRdt, dVdt], [S, E, I, R, V])\n",
    "vacunacion_solution"
   ]
  },
  {
   "cell_type": "code",
   "execution_count": 1036,
   "metadata": {},
   "outputs": [
    {
     "data": {
      "text/latex": [
       "$\\displaystyle \\left[\\begin{matrix}I S β\\\\0\\end{matrix}\\right]$"
      ],
      "text/plain": [
       "Matrix([\n",
       "[I*S*β],\n",
       "[    0]])"
      ]
     },
     "execution_count": 1036,
     "metadata": {},
     "output_type": "execute_result"
    }
   ],
   "source": [
    "F0 = sym.Matrix([β*S*I, 0])\n",
    "F0"
   ]
  },
  {
   "cell_type": "code",
   "execution_count": 1037,
   "metadata": {},
   "outputs": [
    {
     "data": {
      "text/latex": [
       "$\\displaystyle \\left[\\begin{matrix}E α\\\\- E α + I γ\\end{matrix}\\right]$"
      ],
      "text/plain": [
       "Matrix([\n",
       "[       E*α],\n",
       "[-E*α + I*γ]])"
      ]
     },
     "execution_count": 1037,
     "metadata": {},
     "output_type": "execute_result"
    }
   ],
   "source": [
    "UVE = sym.Matrix([α*E, - α*E + γ*I])\n",
    "UVE"
   ]
  },
  {
   "cell_type": "code",
   "execution_count": 1038,
   "metadata": {},
   "outputs": [
    {
     "data": {
      "text/latex": [
       "$\\displaystyle \\left[\\begin{matrix}E\\\\I\\end{matrix}\\right]$"
      ],
      "text/plain": [
       "Matrix([\n",
       "[E],\n",
       "[I]])"
      ]
     },
     "execution_count": 1038,
     "metadata": {},
     "output_type": "execute_result"
    }
   ],
   "source": [
    "VAR = sym.Matrix([E, I])\n",
    "VAR"
   ]
  },
  {
   "cell_type": "code",
   "execution_count": 1039,
   "metadata": {},
   "outputs": [],
   "source": [
    "F = F0.jacobian(VAR)\n",
    "V = UVE.jacobian(VAR)"
   ]
  },
  {
   "cell_type": "code",
   "execution_count": 1040,
   "metadata": {},
   "outputs": [
    {
     "data": {
      "text/latex": [
       "$\\displaystyle \\left[\\begin{matrix}0 & S β\\\\0 & 0\\end{matrix}\\right]$"
      ],
      "text/plain": [
       "Matrix([\n",
       "[0, S*β],\n",
       "[0,   0]])"
      ]
     },
     "execution_count": 1040,
     "metadata": {},
     "output_type": "execute_result"
    }
   ],
   "source": [
    "F"
   ]
  },
  {
   "cell_type": "code",
   "execution_count": 1041,
   "metadata": {},
   "outputs": [
    {
     "data": {
      "text/latex": [
       "$\\displaystyle \\left[\\begin{matrix}α & 0\\\\- α & γ\\end{matrix}\\right]$"
      ],
      "text/plain": [
       "Matrix([\n",
       "[ α, 0],\n",
       "[-α, γ]])"
      ]
     },
     "execution_count": 1041,
     "metadata": {},
     "output_type": "execute_result"
    }
   ],
   "source": [
    "V"
   ]
  },
  {
   "cell_type": "code",
   "execution_count": 1042,
   "metadata": {},
   "outputs": [
    {
     "data": {
      "text/latex": [
       "$\\displaystyle \\left[\\begin{matrix}\\frac{V β κ_{2}}{γ κ_{1}} & \\frac{V β κ_{2}}{γ κ_{1}}\\\\0 & 0\\end{matrix}\\right]$"
      ],
      "text/plain": [
       "Matrix([\n",
       "[V*β*κ_2/(γ*κ_1), V*β*κ_2/(γ*κ_1)],\n",
       "[              0,               0]])"
      ]
     },
     "execution_count": 1042,
     "metadata": {},
     "output_type": "execute_result"
    }
   ],
   "source": [
    "DFE = vacunacion_solution[0]\n",
    "sDFE = DFE[0]\n",
    "eDFE = DFE[1]\n",
    "iDFE = DFE[2]\n",
    "rDFE = DFE[3]\n",
    "vDFE = DFE[4]\n",
    "\n",
    "F1 = F.subs(S, sDFE).subs(E, eDFE).subs(I, iDFE).subs(R, rDFE).subs(V, vDFE)\n",
    "V1 = V.subs(S, sDFE).subs(E, eDFE).subs(I, iDFE).subs(R, rDFE).subs(V, vDFE)\n",
    "V1invertida = V1.inv()\n",
    "NGM = F1*V1invertida\n",
    "NGM"
   ]
  },
  {
   "cell_type": "markdown",
   "metadata": {},
   "source": [
    "$ R_{0}:$"
   ]
  },
  {
   "cell_type": "code",
   "execution_count": 1043,
   "metadata": {},
   "outputs": [
    {
     "data": {
      "text/latex": [
       "$\\displaystyle \\frac{V β κ_{2}}{γ κ_{1}}$"
      ],
      "text/plain": [
       "V*β*κ_2/(γ*κ_1)"
      ]
     },
     "execution_count": 1043,
     "metadata": {},
     "output_type": "execute_result"
    }
   ],
   "source": [
    "list(NGM.eigenvals().keys())[1]"
   ]
  }
 ],
 "metadata": {
  "kernelspec": {
   "display_name": "Python 3.10.6 64-bit",
   "language": "python",
   "name": "python3"
  },
  "language_info": {
   "codemirror_mode": {
    "name": "ipython",
    "version": 3
   },
   "file_extension": ".py",
   "mimetype": "text/x-python",
   "name": "python",
   "nbconvert_exporter": "python",
   "pygments_lexer": "ipython3",
   "version": "3.10.6"
  },
  "orig_nbformat": 4,
  "vscode": {
   "interpreter": {
    "hash": "916dbcbb3f70747c44a77c7bcd40155683ae19c65e1c03b4aa3499c5328201f1"
   }
  }
 },
 "nbformat": 4,
 "nbformat_minor": 2
}
