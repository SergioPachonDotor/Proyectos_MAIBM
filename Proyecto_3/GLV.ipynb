{
 "cells": [
  {
   "cell_type": "code",
   "execution_count": 51,
   "metadata": {},
   "outputs": [
    {
     "data": {
      "text/latex": [
       "$\\displaystyle \\left(1 - \\frac{{x}_{i}}{{k}_{i}}\\right) {x}_{i} {α}_{i} - {x}_{i} {η}_{i} z + {x}_{i} \\sum_{j=1}^{n} {x}_{j} {β}_{i,j}$"
      ],
      "text/plain": [
       "(1 - x[i]/k[i])*x[i]*α[i] - x[i]*η[i]*z + x[i]*Sum(x[j]*β[i, j], (j, 1, n))"
      ]
     },
     "execution_count": 51,
     "metadata": {},
     "output_type": "execute_result"
    }
   ],
   "source": [
    "import sympy as sym\n",
    "from sympy import Sum\n",
    "\n",
    "n, t, y, z= sym.symbols('n t y z')\n",
    "x = sym.IndexedBase('x')\n",
    "α = sym.IndexedBase('α')\n",
    "k = sym.IndexedBase('k')\n",
    "β = sym.IndexedBase('β')\n",
    "z = sym.IndexedBase('z')\n",
    "η = sym.IndexedBase('η')\n",
    "\n",
    "i, j = sym.symbols('i j', cls=sym.Idx)\n",
    "\n",
    "GLV = (α[i]*(x[i])*(1-(x[i]/k[i]))) - (η[i]*z*x[i]) + (x[i] * (Sum(β[i,j]*x[j], (j , 1, n))))\n",
    "GLV"
   ]
  },
  {
   "cell_type": "code",
   "execution_count": 52,
   "metadata": {},
   "outputs": [],
   "source": [
    "def get_glv_eq(n, i):\n",
    "    return  (α[i]*(x[i])*(1-(x[i]/k[i]))) - (η[i]*z*x[i]) + (x[i] * (Sum(β[i,j]*x[j], (j , 1, n)))).doit().subs(β[i,i], 0)\n",
    "\n",
    "def solve_for(n, indexed_arr=None):\n",
    "\n",
    "    x = sym.IndexedBase('x')\n",
    "    eqs_arr = [get_glv_eq(n, i) for i in range(1, n + 1)]\n",
    "\n",
    "    if indexed_arr == None:\n",
    "        x_arr = [x[i] for i in range(1, n + 1)]\n",
    "        sols = sym.solve(eqs_arr, x_arr)            #Calculo de equilibrios\n",
    "    else:\n",
    "        sols = sym.solve(eqs_arr, indexed_arr)      #Calculo de equilibrios  \n",
    "          \n",
    "    return sols"
   ]
  },
  {
   "attachments": {},
   "cell_type": "markdown",
   "metadata": {},
   "source": [
    "#### Solución para una especie\n",
    "- n = 1"
   ]
  },
  {
   "cell_type": "code",
   "execution_count": 150,
   "metadata": {},
   "outputs": [
    {
     "data": {
      "text/latex": [
       "$\\displaystyle \\left(1 - \\frac{{x}_{1}}{{k}_{1}}\\right) {x}_{1} {α}_{1} - {x}_{1} {η}_{1} z$"
      ],
      "text/plain": [
       "(1 - x[1]/k[1])*x[1]*α[1] - x[1]*η[1]*z"
      ]
     },
     "execution_count": 150,
     "metadata": {},
     "output_type": "execute_result"
    }
   ],
   "source": [
    "n = 1\n",
    "eqs_arr = [get_glv_eq(n, i) for i in range(1, n + 1)]\n",
    "eqs_arr[0]"
   ]
  },
  {
   "cell_type": "code",
   "execution_count": 146,
   "metadata": {},
   "outputs": [
    {
     "data": {
      "text/latex": [
       "$\\displaystyle \\left(1 - \\frac{{x}_{1}}{{k}_{1}}\\right) {x}_{1} {α}_{1} - {x}_{1} {η}_{1} z$"
      ],
      "text/plain": [
       "(1 - x[1]/k[1])*x[1]*α[1] - x[1]*η[1]*z"
      ]
     },
     "execution_count": 146,
     "metadata": {},
     "output_type": "execute_result"
    }
   ],
   "source": [
    "eqs_arr[0]"
   ]
  },
  {
   "cell_type": "code",
   "execution_count": 110,
   "metadata": {},
   "outputs": [
    {
     "data": {
      "text/latex": [
       "$\\displaystyle {x}_{1} {α}_{1} - {x}_{1} {η}_{1} z - \\frac{{x}_{1}^{2} {α}_{1}}{{k}_{1}}$"
      ],
      "text/plain": [
       "x[1]*α[1] - x[1]*η[1]*z - x[1]**2*α[1]/k[1]"
      ]
     },
     "execution_count": 110,
     "metadata": {},
     "output_type": "execute_result"
    }
   ],
   "source": [
    "# Expandiendo la solución para poder tener las propensidades para\n",
    "# la simulación estocástica.\n",
    "sym.expand(eqs_arr[0])"
   ]
  },
  {
   "cell_type": "code",
   "execution_count": 144,
   "metadata": {},
   "outputs": [
    {
     "data": {
      "text/latex": [
       "$\\displaystyle \\frac{\\left({α}_{1} - {η}_{1} z\\right) {k}_{1}}{{α}_{1}}$"
      ],
      "text/plain": [
       "(α[1] - η[1]*z)*k[1]/α[1]"
      ]
     },
     "execution_count": 144,
     "metadata": {},
     "output_type": "execute_result"
    }
   ],
   "source": [
    "eqs = sym.solve(eqs_arr[0], x[1])\n",
    "eqs[1]"
   ]
  },
  {
   "cell_type": "code",
   "execution_count": 147,
   "metadata": {},
   "outputs": [
    {
     "data": {
      "text/plain": [
       "[0, (α[1] - η[1]*z)*k[1]/α[1]]"
      ]
     },
     "execution_count": 147,
     "metadata": {},
     "output_type": "execute_result"
    }
   ],
   "source": [
    "eqs"
   ]
  },
  {
   "cell_type": "code",
   "execution_count": 142,
   "metadata": {},
   "outputs": [
    {
     "data": {
      "text/latex": [
       "$\\displaystyle 200.0 - 90.0900900900901 z$"
      ],
      "text/plain": [
       "200.0 - 90.0900900900901*z"
      ]
     },
     "execution_count": 142,
     "metadata": {},
     "output_type": "execute_result"
    }
   ],
   "source": [
    "eqs[1].subs(α[1], 0.333).subs(k[1], 200).subs(η[1], 0.15)"
   ]
  }
 ],
 "metadata": {
  "kernelspec": {
   "display_name": "Python 3.8.10 64-bit",
   "language": "python",
   "name": "python3"
  },
  "language_info": {
   "codemirror_mode": {
    "name": "ipython",
    "version": 3
   },
   "file_extension": ".py",
   "mimetype": "text/x-python",
   "name": "python",
   "nbconvert_exporter": "python",
   "pygments_lexer": "ipython3",
   "version": "3.10.6 (main, Nov  2 2022, 18:53:38) [GCC 11.3.0]"
  },
  "orig_nbformat": 4,
  "vscode": {
   "interpreter": {
    "hash": "916dbcbb3f70747c44a77c7bcd40155683ae19c65e1c03b4aa3499c5328201f1"
   }
  }
 },
 "nbformat": 4,
 "nbformat_minor": 2
}
