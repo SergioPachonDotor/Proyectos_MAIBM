{
 "cells": [
  {
   "cell_type": "code",
   "execution_count": 383,
   "metadata": {},
   "outputs": [],
   "source": [
    "import numpy as np\n",
    "import matplotlib.pyplot as plt\n",
    "from scipy.integrate import odeint"
   ]
  },
  {
   "cell_type": "markdown",
   "metadata": {},
   "source": [
    "- X: Firmicutes\n",
    "- Y: Bacteroidetes"
   ]
  },
  {
   "cell_type": "code",
   "execution_count": 384,
   "metadata": {},
   "outputs": [],
   "source": [
    "α1 = 0.051 # Tasa de crecimiento\n",
    "α2 = 0.089 # Tasa de crecimiento\n",
    "α3 = 0.1   # Tasa de crecimiento\n",
    "\n",
    "β1 = 0.0001 # Como afecta el crecimiento\n",
    "β2 = 0.001  # Como afecta el crecimiento\n",
    "β3 = 0.01   # Como afecta el crecimiento\n",
    "\n",
    "k1 = 200    # Capacidad de carga\n",
    "k2 = 200    # Capacidad de carga\n",
    "k3 = 300    # Capacidad de carga\n",
    "\n",
    "ε = 6       # Tasa de eliminación mg/h\n",
    "ε1 = 0.3    # Como afecta el antibiótico a x\n",
    "ε2 = 0.3    # Cómo afecta el antibiótico a y\n",
    "\n",
    "x0 = 150     # X inicial\n",
    "y0 = 100     # Y inicial\n",
    "z0 = 1      # Z inicial\n",
    "A0 = 10     # Antibiótico inicial\n",
    "\n",
    "t0 = 8     # Cada cuando se suministra una dosis\n",
    "n = 40      # Número de dosis suministradas cada t0\n"
   ]
  },
  {
   "cell_type": "code",
   "execution_count": 385,
   "metadata": {},
   "outputs": [],
   "source": [
    "def model_1_bact_firm(c, t):\n",
    "    x=c[0] # Firmicutes\n",
    "    y=c[1] # Bacteroidetes \n",
    "    dxdt = α1*x*(1-(x/k1)) + β1*x*y\n",
    "    dydt = α2*y*(1-(y/k2)) + β2*x*y\n",
    "    return np.array([dxdt,dydt])\n",
    "\n",
    "tmax = 1000\n",
    "dt = 0.1\n",
    "t = np.arange(0,tmax,dt)\n",
    "\n",
    "c0 = np.array([x0 , y0])\n",
    "\n",
    "solution = odeint(model_1_bact_firm, c0, t)"
   ]
  },
  {
   "cell_type": "code",
   "execution_count": 386,
   "metadata": {},
   "outputs": [
    {
     "name": "stdout",
     "output_type": "stream",
     "text": [
      "0.4284121143117278\n"
     ]
    }
   ],
   "source": [
    "x1 = solution[tmax, 0]\n",
    "y1 = solution[tmax, 1]\n",
    "\n",
    "R = x1/y1\n",
    "print(R)"
   ]
  },
  {
   "cell_type": "markdown",
   "metadata": {},
   "source": [
    "<!-- def LV(X,t):\n",
    "    x = X[0] # Presas\n",
    "    y = X[1] # Predadores\n",
    "    dxdt = a*x*(1-x/K) - b*x*y\n",
    "    dydt = c*x*y - d*y\n",
    "    dX = [dxdt, dydt]\n",
    "    return dX\n",
    "\n",
    "# Condiciones Iniciales\n",
    "x0 = 10 # En miles\n",
    "y0 = 2 # En miles\n",
    "ICS = [x0, y0]\n",
    "\n",
    "# Parámetros\n",
    "a = 0.8\n",
    "b = 0.4\n",
    "c = 0.15\n",
    "d = 0.6\n",
    "K = 10 -->"
   ]
  },
  {
   "cell_type": "code",
   "execution_count": 387,
   "metadata": {},
   "outputs": [
    {
     "data": {
      "text/plain": [
       "Text(0, 0.5, 'Bacterias')"
      ]
     },
     "execution_count": 387,
     "metadata": {},
     "output_type": "execute_result"
    },
    {
     "data": {
      "image/png": "[encoded data removed]",
      "text/plain": [
       "<Figure size 504x216 with 1 Axes>"
      ]
     },
     "metadata": {
      "needs_background": "light"
     },
     "output_type": "display_data"
    }
   ],
   "source": [
    "fig, ax = plt.subplots(figsize=(7, 3)) # Best to paper\n",
    "plt.plot(t, solution[:,0], color='red', label='Firmicutes')\n",
    "plt.plot(t, solution[:,1], color='black', label='Bacteroidetes')\n",
    "plt.legend(loc='best')\n",
    "plt.xlim(0, tmax)\n",
    "plt.grid(True, axis='y')\n",
    "plt.title('Población Firmicutes/Bacteroidetes')\n",
    "plt.xlabel('Tiempo (horas)')\n",
    "plt.ylabel('Bacterias')\n",
    "# plt.savefig('Dialisis_toxina.eps', dpi=400, bbox_inches = \"tight\")"
   ]
  },
  {
   "cell_type": "code",
   "execution_count": 388,
   "metadata": {},
   "outputs": [],
   "source": [
    "def model_3_bact_firm_ab(c, t):\n",
    "    x=c[0] # Firmicutes\n",
    "    y=c[1] # Bacteroidetes \n",
    "    z=c[2] # Antibiótico\n",
    "    dxdt = α1*x*(1-(x/k1)) + β1*x*y -ε1*x*z\n",
    "    dydt = α2*y*(1-(y/k2)) + β2*x*y -ε2*y*z\n",
    "    dzdt = -ε * z\n",
    "    return np.array([dxdt,dydt, dzdt])\n",
    "\n",
    "tmax = 100\n",
    "dt = 0.1\n",
    "t = np.arange(0,tmax,dt)\n",
    "\n",
    "dosis_desc = 14 # Día en el que se suministra antibiótico\n",
    "\n",
    "c0 = np.array([x0 , y0, A0])\n",
    "\n",
    "solution_AB = odeint(model_3_bact_firm_ab, c0, t)\n",
    "\n",
    "dosis_arr_2 = np.array([np.arange(i*t0, (i*t0) + t0, dt) for i in range(n)])\n",
    "\n",
    "t = np.arange(0, t0, dt)\n",
    "ysol = []\n",
    "\n",
    "for i in range(len(dosis_arr_2)):\n",
    "    ysol.append(odeint(model_3_bact_firm_ab, c0, dosis_arr_2[i]))\n",
    "    c0 = np.array([ysol[-1][-1][0], ysol[-1][-1][1], 0])\n",
    "\n",
    "    if i >= dosis_desc:\n",
    "        c0 = np.array([ysol[-1][-1][0], ysol[-1][-1][1], A0 + ysol[-1][-1][2]])\n",
    "\n",
    "t = np.concatenate(dosis_arr_2)\n",
    "x = np.concatenate(ysol)[ : ,0]\n",
    "y = np.concatenate(ysol)[ : ,1]\n",
    "z = np.concatenate(ysol)[ : ,1]\n"
   ]
  },
  {
   "cell_type": "code",
   "execution_count": 394,
   "metadata": {},
   "outputs": [
    {
     "data": {
      "text/plain": [
       "Text(0, 0.5, 'Bacterias')"
      ]
     },
     "execution_count": 394,
     "metadata": {},
     "output_type": "execute_result"
    },
    {
     "data": {
      "image/png": "[encoded data removed]",
      "text/plain": [
       "<Figure size 504x216 with 1 Axes>"
      ]
     },
     "metadata": {
      "needs_background": "light"
     },
     "output_type": "display_data"
    }
   ],
   "source": [
    "fig, ax = plt.subplots(figsize=(7, 3)) # Best to paper\n",
    "plt.plot(t, x, color='red', label='Firmicutes')\n",
    "plt.plot(t, y, color='black', label='Bacteroidetes')\n",
    "# plt.plot(t, z, color='blue', label='Otra chimbada por ahí')\n",
    "plt.legend(loc=1)\n",
    "plt.xlim(0, t0*n)\n",
    "plt.grid(True, axis='y')\n",
    "plt.title('Inicio del tratamiento con antibiótico')\n",
    "plt.xlabel('Tiempo (horas)')\n",
    "plt.ylabel('Bacterias')\n",
    "# plt.savefig('Dialisis_toxina.eps', dpi=400, bbox_inches = \"tight\")"
   ]
  },
  {
   "cell_type": "code",
   "execution_count": 390,
   "metadata": {},
   "outputs": [],
   "source": [
    "tmax = 100\n",
    "dt = 0.1\n",
    "t = np.arange(0,tmax,dt)\n",
    "\n",
    "dosis_desc = 14 # Día en el que se suministra antibiótico\n",
    "\n",
    "c0 = np.array([x0 , y0, A0])\n",
    "\n",
    "solution_AB = odeint(model_3_bact_firm_ab, c0, t)\n",
    "\n",
    "dosis_arr_2 = np.array([np.arange(i*t0, (i*t0) + t0, dt) for i in range(n)])\n",
    "\n",
    "t = np.arange(0, t0, dt)\n",
    "ysol = []\n",
    "\n",
    "for i in range(len(dosis_arr_2)):\n",
    "    ysol.append(odeint(model_3_bact_firm_ab, c0, dosis_arr_2[i]))\n",
    "    c0 = np.array([ysol[-1][-1][0], ysol[-1][-1][1], A0 + ysol[-1][-1][2]])\n",
    "\n",
    "    if i >= dosis_desc:\n",
    "        c0 = np.array([ysol[-1][-1][0], ysol[-1][-1][1], 0])\n",
    "        \n",
    "        \n",
    "\n",
    "t = np.concatenate(dosis_arr_2)\n",
    "x = np.concatenate(ysol)[ : ,0]\n",
    "y = np.concatenate(ysol)[ : ,1]\n",
    "z = np.concatenate(ysol)[ : ,1]"
   ]
  },
  {
   "cell_type": "code",
   "execution_count": 391,
   "metadata": {},
   "outputs": [
    {
     "data": {
      "text/plain": [
       "Text(0, 0.5, 'Bacterias')"
      ]
     },
     "execution_count": 391,
     "metadata": {},
     "output_type": "execute_result"
    },
    {
     "data": {
      "image/png": "[encoded data removed]",
      "text/plain": [
       "<Figure size 504x216 with 1 Axes>"
      ]
     },
     "metadata": {
      "needs_background": "light"
     },
     "output_type": "display_data"
    }
   ],
   "source": [
    "fig, ax = plt.subplots(figsize=(7, 3)) # Best to paper\n",
    "plt.plot(t, x, color='red', label='Firmicutes')\n",
    "plt.plot(t, y, color='black', label='Bacteroidetes')\n",
    "plt.legend(loc=1)\n",
    "plt.xlim(0, t0*n)\n",
    "plt.grid(True, axis='y')\n",
    "plt.title('Recuperación de un tratamiento con antibiótico')\n",
    "plt.xlabel('Tiempo (horas)')\n",
    "plt.ylabel('Bacterias')"
   ]
  },
  {
   "cell_type": "code",
   "execution_count": 392,
   "metadata": {},
   "outputs": [],
   "source": [
    "# def model_2_bact_firm(c, t):\n",
    "#     x = c[0] # Firmicutes\n",
    "#     y = c[1] # Bacteroidetes \n",
    "#     z = c[2] # Otros\n",
    "#     dxdt = (1 - x/k1)*α1*x + (y*β1 + z*β3)*x\n",
    "#     dydt = y*(-y/k2 + 1)*α2 + y*(z*β3 + β1*x)\n",
    "#     dzdt = z*(y*β2 + β1*x) + z*(-z/k3 + 1)*α3\n",
    "#     return np.array([dxdt,dydt, dzdt])\n",
    "\n",
    "# tmax = 100\n",
    "# dt = 0.1\n",
    "# t=np.arange(0,tmax,dt)\n",
    "\n",
    "# c0 = np.array([x0 , y0, z0])\n",
    "\n",
    "# solution = odeint(model_2_bact_firm, c0, t)"
   ]
  },
  {
   "cell_type": "code",
   "execution_count": 393,
   "metadata": {},
   "outputs": [],
   "source": [
    "# fig, ax = plt.subplots(figsize=(15, 5))\n",
    "# plt.plot(t, solution[:,0], color='red', label='Firmicutes')\n",
    "# plt.plot(t, solution[:,1], color='black', label='Bacteroidetes')\n",
    "# plt.plot(t, solution[:,2], color='blue', label='Otra chimbada por ahí')\n",
    "# plt.legend(loc=1)\n",
    "# plt.xlim(0, tmax)\n",
    "# plt.grid(True, axis='y')\n",
    "# plt.title('Diálisis de toxina')\n",
    "# plt.xlabel('Tiempo (dias)')\n",
    "# plt.ylabel('Bacterias')\n",
    "# # plt.savefig('Dialisis_toxina.eps', dpi=400, bbox_inches = \"tight\")"
   ]
  }
 ],
 "metadata": {
  "kernelspec": {
   "display_name": "Python 3.8.10 64-bit",
   "language": "python",
   "name": "python3"
  },
  "language_info": {
   "codemirror_mode": {
    "name": "ipython",
    "version": 3
   },
   "file_extension": ".py",
   "mimetype": "text/x-python",
   "name": "python",
   "nbconvert_exporter": "python",
   "pygments_lexer": "ipython3",
   "version": "3.8.10"
  },
  "orig_nbformat": 4,
  "vscode": {
   "interpreter": {
    "hash": "916dbcbb3f70747c44a77c7bcd40155683ae19c65e1c03b4aa3499c5328201f1"
   }
  }
 },
 "nbformat": 4,
 "nbformat_minor": 2
}
