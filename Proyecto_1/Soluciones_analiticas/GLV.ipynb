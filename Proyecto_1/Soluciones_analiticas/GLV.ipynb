{
 "cells": [
  {
   "cell_type": "code",
   "execution_count": 64,
   "metadata": {},
   "outputs": [
    {
     "data": {
      "text/latex": [
       "$\\displaystyle \\left(1 - \\frac{{x}_{i}}{{k}_{i}}\\right) {x}_{i} {α}_{i} + {x}_{i} \\sum_{j=1}^{n} {x}_{j} {β}_{i,j}$"
      ],
      "text/plain": [
       "(1 - x[i]/k[i])*x[i]*α[i] + x[i]*Sum(x[j]*β[i, j], (j, 1, n))"
      ]
     },
     "execution_count": 64,
     "metadata": {},
     "output_type": "execute_result"
    }
   ],
   "source": [
    "import sympy as sym\n",
    "from sympy import Sum\n",
    "\n",
    "n, t, y, z= sym.symbols('n t y z')\n",
    "x = sym.IndexedBase('x')\n",
    "α = sym.IndexedBase('α')\n",
    "k = sym.IndexedBase('k')\n",
    "β = sym.IndexedBase('β')\n",
    "\n",
    "i, j = sym.symbols('i j', cls=sym.Idx)\n",
    "\n",
    "GLV = α[i]*(x[i])*(1-(x[i]/k[i])) + x[i] * (Sum(β[i,j]*x[j], (j , 1, n)))\n",
    "GLV"
   ]
  },
  {
   "cell_type": "code",
   "execution_count": 65,
   "metadata": {},
   "outputs": [],
   "source": [
    "def get_glv_eq(n, i):\n",
    "    return  α[i] * (x[i]) * (1 - (x[i] / k[i])) + x[i] * Sum(β[i,j] * x[j], (j , 1, n)).doit().subs(β[i,i], 0)\n",
    "\n",
    "def solve_for(n, indexed_arr=None):\n",
    "\n",
    "    x = sym.IndexedBase('x')\n",
    "    eqs_arr = [get_glv_eq(n, i) for i in range(1, n + 1)]\n",
    "\n",
    "    if indexed_arr == None:\n",
    "        x_arr = [x[i] for i in range(1, n + 1)]\n",
    "        sols = sym.solve(eqs_arr, x_arr)            #Calculo de equilibrios\n",
    "    else:\n",
    "        sols = sym.solve(eqs_arr, indexed_arr)      #Calculo de equilibrios  \n",
    "          \n",
    "    return sols"
   ]
  },
  {
   "cell_type": "markdown",
   "metadata": {},
   "source": [
    "#### Solución para dos especies \n",
    "- n = 2"
   ]
  },
  {
   "cell_type": "code",
   "execution_count": 66,
   "metadata": {},
   "outputs": [],
   "source": [
    "n = 2\n",
    "eqs_arr = [get_glv_eq(n, i) for i in range(1, n + 1)]"
   ]
  },
  {
   "cell_type": "code",
   "execution_count": 67,
   "metadata": {},
   "outputs": [
    {
     "data": {
      "text/latex": [
       "$\\displaystyle \\left(1 - \\frac{{x}_{1}}{{k}_{1}}\\right) {x}_{1} {α}_{1} + {x}_{1} {x}_{2} {β}_{1,2}$"
      ],
      "text/plain": [
       "(1 - x[1]/k[1])*x[1]*α[1] + x[1]*x[2]*β[1, 2]"
      ]
     },
     "execution_count": 67,
     "metadata": {},
     "output_type": "execute_result"
    }
   ],
   "source": [
    "eqs_arr[0]\n"
   ]
  },
  {
   "cell_type": "code",
   "execution_count": 68,
   "metadata": {},
   "outputs": [
    {
     "data": {
      "text/latex": [
       "$\\displaystyle \\left(1 - \\frac{{x}_{2}}{{k}_{2}}\\right) {x}_{2} {α}_{2} + {x}_{1} {x}_{2} {β}_{2,1}$"
      ],
      "text/plain": [
       "(1 - x[2]/k[2])*x[2]*α[2] + x[1]*x[2]*β[2, 1]"
      ]
     },
     "execution_count": 68,
     "metadata": {},
     "output_type": "execute_result"
    }
   ],
   "source": [
    "eqs_arr[1]"
   ]
  },
  {
   "cell_type": "markdown",
   "metadata": {},
   "source": [
    "### Hallando los puntos de equilibrio tenemos:"
   ]
  },
  {
   "cell_type": "code",
   "execution_count": 69,
   "metadata": {},
   "outputs": [
    {
     "data": {
      "text/plain": [
       "[(0, 0),\n",
       " (0, k[2]),\n",
       " ((-k[2]*β[1, 2] - α[1])*k[1]*α[2]/(k[1]*k[2]*β[1, 2]*β[2, 1] - α[1]*α[2]),\n",
       "  (-k[1]*k[2]*α[1]*β[2, 1] - k[2]*α[1]*α[2])/(k[1]*k[2]*β[1, 2]*β[2, 1] - α[1]*α[2])),\n",
       " (k[1], 0)]"
      ]
     },
     "execution_count": 69,
     "metadata": {},
     "output_type": "execute_result"
    }
   ],
   "source": [
    "sols2 = solve_for(n=2)\n",
    "sols2"
   ]
  },
  {
   "cell_type": "code",
   "execution_count": 70,
   "metadata": {},
   "outputs": [
    {
     "name": "stdout",
     "output_type": "stream",
     "text": [
      "x[1] = -(k[2]*β[1, 2] + α[1])*k[1]*α[2]/(k[1]*k[2]*β[1, 2]*β[2, 1] - α[1]*α[2])\n",
      "x[2] = (-k[1]*β[2, 1] - α[2])*k[2]*α[1]/(k[1]*k[2]*β[1, 2]*β[2, 1] - α[1]*α[2])\n"
     ]
    }
   ],
   "source": [
    "# Cambiar el índice \"indx\" de para evaluar diferentes equilibrios.\n",
    "indx = 2\n",
    "x1_eq =sym.simplify(sols2[indx][0]) #SELECCIONAMOS, SOLS TIENE EN LA PRIMERA DIMENSION EL NUMERO DEL EQUILIBRIO, Y LA SEGUNDA ES PARA X Y PARA Y. \n",
    "x2_eq =sym.simplify(sols2[indx][1])\n",
    "print(f\"{x[1]} = {x1_eq}\") # X\n",
    "print(f\"{x[2]} = {x2_eq}\") # Y"
   ]
  },
  {
   "cell_type": "code",
   "execution_count": 71,
   "metadata": {},
   "outputs": [
    {
     "data": {
      "text/latex": [
       "$\\displaystyle - \\frac{\\left({k}_{2} {β}_{1,2} + {α}_{1}\\right) {k}_{1} {α}_{2}}{{k}_{1} {k}_{2} {β}_{1,2} {β}_{2,1} - {α}_{1} {α}_{2}}$"
      ],
      "text/plain": [
       "-(k[2]*β[1, 2] + α[1])*k[1]*α[2]/(k[1]*k[2]*β[1, 2]*β[2, 1] - α[1]*α[2])"
      ]
     },
     "execution_count": 71,
     "metadata": {},
     "output_type": "execute_result"
    }
   ],
   "source": [
    "x1_eq"
   ]
  },
  {
   "cell_type": "code",
   "execution_count": 72,
   "metadata": {},
   "outputs": [
    {
     "data": {
      "text/latex": [
       "$\\displaystyle \\frac{\\left(- {k}_{1} {β}_{2,1} - {α}_{2}\\right) {k}_{2} {α}_{1}}{{k}_{1} {k}_{2} {β}_{1,2} {β}_{2,1} - {α}_{1} {α}_{2}}$"
      ],
      "text/plain": [
       "(-k[1]*β[2, 1] - α[2])*k[2]*α[1]/(k[1]*k[2]*β[1, 2]*β[2, 1] - α[1]*α[2])"
      ]
     },
     "execution_count": 72,
     "metadata": {},
     "output_type": "execute_result"
    }
   ],
   "source": [
    "x2_eq"
   ]
  },
  {
   "cell_type": "markdown",
   "metadata": {},
   "source": [
    "### Hallando el Jacobiano tenemos:"
   ]
  },
  {
   "cell_type": "code",
   "execution_count": 73,
   "metadata": {},
   "outputs": [
    {
     "data": {
      "text/latex": [
       "$\\displaystyle \\left[\\begin{matrix}\\left(1 - \\frac{{x}_{1}}{{k}_{1}}\\right) {α}_{1} + {x}_{2} {β}_{1,2} - \\frac{{x}_{1} {α}_{1}}{{k}_{1}} & {x}_{1} {β}_{1,2}\\\\{x}_{2} {β}_{2,1} & \\left(1 - \\frac{{x}_{2}}{{k}_{2}}\\right) {α}_{2} + {x}_{1} {β}_{2,1} - \\frac{{x}_{2} {α}_{2}}{{k}_{2}}\\end{matrix}\\right]$"
      ],
      "text/plain": [
       "Matrix([\n",
       "[(1 - x[1]/k[1])*α[1] + x[2]*β[1, 2] - x[1]*α[1]/k[1],                                         x[1]*β[1, 2]],\n",
       "[                                        x[2]*β[2, 1], (1 - x[2]/k[2])*α[2] + x[1]*β[2, 1] - x[2]*α[2]/k[2]]])"
      ]
     },
     "execution_count": 73,
     "metadata": {},
     "output_type": "execute_result"
    }
   ],
   "source": [
    "Meq=sym.Matrix(eqs_arr) # matriz de ecuaciones\n",
    "Mvar=sym.Matrix([x[1], x[2]]) # matriz de variables\n",
    "\n",
    "Jac = Meq.jacobian(Mvar) # Jacobiano\n",
    "Jac"
   ]
  },
  {
   "cell_type": "code",
   "execution_count": 74,
   "metadata": {},
   "outputs": [
    {
     "data": {
      "text/latex": [
       "$\\displaystyle \\left[\\begin{matrix}\\frac{\\left(- {k}_{1} {β}_{2,1} - {α}_{2}\\right) {k}_{2} {α}_{1} {β}_{1,2}}{{k}_{1} {k}_{2} {β}_{1,2} {β}_{2,1} - {α}_{1} {α}_{2}} + \\frac{\\left({k}_{2} {β}_{1,2} + {α}_{1}\\right) {α}_{1} {α}_{2}}{{k}_{1} {k}_{2} {β}_{1,2} {β}_{2,1} - {α}_{1} {α}_{2}} + \\left(\\frac{\\left({k}_{2} {β}_{1,2} + {α}_{1}\\right) {α}_{2}}{{k}_{1} {k}_{2} {β}_{1,2} {β}_{2,1} - {α}_{1} {α}_{2}} + 1\\right) {α}_{1} & - \\frac{\\left({k}_{2} {β}_{1,2} + {α}_{1}\\right) {k}_{1} {α}_{2} {β}_{1,2}}{{k}_{1} {k}_{2} {β}_{1,2} {β}_{2,1} - {α}_{1} {α}_{2}}\\\\\\frac{\\left(- {k}_{1} {β}_{2,1} - {α}_{2}\\right) {k}_{2} {α}_{1} {β}_{2,1}}{{k}_{1} {k}_{2} {β}_{1,2} {β}_{2,1} - {α}_{1} {α}_{2}} & - \\frac{\\left(- {k}_{1} {β}_{2,1} - {α}_{2}\\right) {α}_{1} {α}_{2}}{{k}_{1} {k}_{2} {β}_{1,2} {β}_{2,1} - {α}_{1} {α}_{2}} - \\frac{\\left({k}_{2} {β}_{1,2} + {α}_{1}\\right) {k}_{1} {α}_{2} {β}_{2,1}}{{k}_{1} {k}_{2} {β}_{1,2} {β}_{2,1} - {α}_{1} {α}_{2}} + \\left(- \\frac{\\left(- {k}_{1} {β}_{2,1} - {α}_{2}\\right) {α}_{1}}{{k}_{1} {k}_{2} {β}_{1,2} {β}_{2,1} - {α}_{1} {α}_{2}} + 1\\right) {α}_{2}\\end{matrix}\\right]$"
      ],
      "text/plain": [
       "Matrix([\n",
       "[(-k[1]*β[2, 1] - α[2])*k[2]*α[1]*β[1, 2]/(k[1]*k[2]*β[1, 2]*β[2, 1] - α[1]*α[2]) + (k[2]*β[1, 2] + α[1])*α[1]*α[2]/(k[1]*k[2]*β[1, 2]*β[2, 1] - α[1]*α[2]) + ((k[2]*β[1, 2] + α[1])*α[2]/(k[1]*k[2]*β[1, 2]*β[2, 1] - α[1]*α[2]) + 1)*α[1],                                                                                                                                                              -(k[2]*β[1, 2] + α[1])*k[1]*α[2]*β[1, 2]/(k[1]*k[2]*β[1, 2]*β[2, 1] - α[1]*α[2])],\n",
       "[                                                                                                                                                          (-k[1]*β[2, 1] - α[2])*k[2]*α[1]*β[2, 1]/(k[1]*k[2]*β[1, 2]*β[2, 1] - α[1]*α[2]), -(-k[1]*β[2, 1] - α[2])*α[1]*α[2]/(k[1]*k[2]*β[1, 2]*β[2, 1] - α[1]*α[2]) - (k[2]*β[1, 2] + α[1])*k[1]*α[2]*β[2, 1]/(k[1]*k[2]*β[1, 2]*β[2, 1] - α[1]*α[2]) + (-(-k[1]*β[2, 1] - α[2])*α[1]/(k[1]*k[2]*β[1, 2]*β[2, 1] - α[1]*α[2]) + 1)*α[2]]])"
      ]
     },
     "execution_count": 74,
     "metadata": {},
     "output_type": "execute_result"
    }
   ],
   "source": [
    "# Evaluando el Jacobiano en puntos de equilibrio:\n",
    "Jaceq = Jac.subs(x[1],x1_eq).subs(x[2],x2_eq)\n",
    "Jaceq"
   ]
  },
  {
   "cell_type": "markdown",
   "metadata": {},
   "source": [
    "#### Hallando valores propios tenemos:"
   ]
  },
  {
   "cell_type": "code",
   "execution_count": 75,
   "metadata": {},
   "outputs": [],
   "source": [
    "##VALORES PROPIOS\n",
    "eig = Jaceq.eigenvals()\n",
    "Eig = list(eig.keys())\n",
    "Eig1 = Eig[0]\n",
    "Eig2 = Eig[1]"
   ]
  },
  {
   "cell_type": "markdown",
   "metadata": {},
   "source": [
    "Valor propio 1:"
   ]
  },
  {
   "cell_type": "code",
   "execution_count": 76,
   "metadata": {},
   "outputs": [
    {
     "data": {
      "text/latex": [
       "$\\displaystyle \\frac{- \\sqrt{\\left(4 \\left({k}_{1} {k}_{2} {β}_{1,2} {β}_{2,1} - {α}_{1} {α}_{2}\\right) \\left({k}_{1} {k}_{2} {β}_{1,2} {β}_{2,1} + {k}_{1} {α}_{1} {β}_{2,1} + {k}_{2} {α}_{2} {β}_{1,2} + {α}_{1} {α}_{2}\\right) + \\left({k}_{1} {β}_{2,1} + {k}_{2} {β}_{1,2} + {α}_{1} + {α}_{2}\\right)^{2} {α}_{1} {α}_{2}\\right) {α}_{1} {α}_{2}} + \\left({k}_{1} {β}_{2,1} + {k}_{2} {β}_{1,2} + {α}_{1} + {α}_{2}\\right) {α}_{1} {α}_{2}}{2 \\left({k}_{1} {k}_{2} {β}_{1,2} {β}_{2,1} - {α}_{1} {α}_{2}\\right)}$"
      ],
      "text/plain": [
       "(-sqrt((4*(k[1]*k[2]*β[1, 2]*β[2, 1] - α[1]*α[2])*(k[1]*k[2]*β[1, 2]*β[2, 1] + k[1]*α[1]*β[2, 1] + k[2]*α[2]*β[1, 2] + α[1]*α[2]) + (k[1]*β[2, 1] + k[2]*β[1, 2] + α[1] + α[2])**2*α[1]*α[2])*α[1]*α[2]) + (k[1]*β[2, 1] + k[2]*β[1, 2] + α[1] + α[2])*α[1]*α[2])/(2*(k[1]*k[2]*β[1, 2]*β[2, 1] - α[1]*α[2]))"
      ]
     },
     "execution_count": 76,
     "metadata": {},
     "output_type": "execute_result"
    }
   ],
   "source": [
    "sym.simplify(Eig1)"
   ]
  },
  {
   "cell_type": "markdown",
   "metadata": {},
   "source": [
    "Valor propio 2:"
   ]
  },
  {
   "cell_type": "code",
   "execution_count": 77,
   "metadata": {},
   "outputs": [
    {
     "data": {
      "text/latex": [
       "$\\displaystyle \\frac{\\sqrt{\\left(4 \\left({k}_{1} {k}_{2} {β}_{1,2} {β}_{2,1} - {α}_{1} {α}_{2}\\right) \\left({k}_{1} {k}_{2} {β}_{1,2} {β}_{2,1} + {k}_{1} {α}_{1} {β}_{2,1} + {k}_{2} {α}_{2} {β}_{1,2} + {α}_{1} {α}_{2}\\right) + \\left({k}_{1} {β}_{2,1} + {k}_{2} {β}_{1,2} + {α}_{1} + {α}_{2}\\right)^{2} {α}_{1} {α}_{2}\\right) {α}_{1} {α}_{2}} + \\left({k}_{1} {β}_{2,1} + {k}_{2} {β}_{1,2} + {α}_{1} + {α}_{2}\\right) {α}_{1} {α}_{2}}{2 \\left({k}_{1} {k}_{2} {β}_{1,2} {β}_{2,1} - {α}_{1} {α}_{2}\\right)}$"
      ],
      "text/plain": [
       "(sqrt((4*(k[1]*k[2]*β[1, 2]*β[2, 1] - α[1]*α[2])*(k[1]*k[2]*β[1, 2]*β[2, 1] + k[1]*α[1]*β[2, 1] + k[2]*α[2]*β[1, 2] + α[1]*α[2]) + (k[1]*β[2, 1] + k[2]*β[1, 2] + α[1] + α[2])**2*α[1]*α[2])*α[1]*α[2]) + (k[1]*β[2, 1] + k[2]*β[1, 2] + α[1] + α[2])*α[1]*α[2])/(2*(k[1]*k[2]*β[1, 2]*β[2, 1] - α[1]*α[2]))"
      ]
     },
     "execution_count": 77,
     "metadata": {},
     "output_type": "execute_result"
    }
   ],
   "source": [
    "sym.simplify(Eig2)"
   ]
  },
  {
   "cell_type": "markdown",
   "metadata": {},
   "source": [
    "#### Solución para tres especies \n",
    "- n = 3"
   ]
  },
  {
   "cell_type": "code",
   "execution_count": 78,
   "metadata": {},
   "outputs": [],
   "source": [
    "n = 3\n",
    "eqs_arr = [get_glv_eq(n, i) for i in range(1, n + 1)]"
   ]
  },
  {
   "cell_type": "code",
   "execution_count": 79,
   "metadata": {},
   "outputs": [
    {
     "data": {
      "text/latex": [
       "$\\displaystyle \\left(1 - \\frac{{x}_{1}}{{k}_{1}}\\right) {x}_{1} {α}_{1} + \\left({x}_{2} {β}_{1,2} + {x}_{3} {β}_{1,3}\\right) {x}_{1}$"
      ],
      "text/plain": [
       "(1 - x[1]/k[1])*x[1]*α[1] + (x[2]*β[1, 2] + x[3]*β[1, 3])*x[1]"
      ]
     },
     "execution_count": 79,
     "metadata": {},
     "output_type": "execute_result"
    }
   ],
   "source": [
    "eqs_arr[0]"
   ]
  },
  {
   "cell_type": "code",
   "execution_count": 80,
   "metadata": {},
   "outputs": [
    {
     "data": {
      "text/latex": [
       "$\\displaystyle \\left(1 - \\frac{{x}_{2}}{{k}_{2}}\\right) {x}_{2} {α}_{2} + \\left({x}_{1} {β}_{2,1} + {x}_{3} {β}_{2,3}\\right) {x}_{2}$"
      ],
      "text/plain": [
       "(1 - x[2]/k[2])*x[2]*α[2] + (x[1]*β[2, 1] + x[3]*β[2, 3])*x[2]"
      ]
     },
     "execution_count": 80,
     "metadata": {},
     "output_type": "execute_result"
    }
   ],
   "source": [
    "eqs_arr[1]"
   ]
  },
  {
   "cell_type": "code",
   "execution_count": 81,
   "metadata": {},
   "outputs": [
    {
     "data": {
      "text/latex": [
       "$\\displaystyle \\left(1 - \\frac{{x}_{3}}{{k}_{3}}\\right) {x}_{3} {α}_{3} + \\left({x}_{1} {β}_{3,1} + {x}_{2} {β}_{3,2}\\right) {x}_{3}$"
      ],
      "text/plain": [
       "(1 - x[3]/k[3])*x[3]*α[3] + (x[1]*β[3, 1] + x[2]*β[3, 2])*x[3]"
      ]
     },
     "execution_count": 81,
     "metadata": {},
     "output_type": "execute_result"
    }
   ],
   "source": [
    "eqs_arr[2]"
   ]
  },
  {
   "cell_type": "markdown",
   "metadata": {},
   "source": [
    "Tomando las expresiones para incluirlas en una simulación de 3 especies:"
   ]
  },
  {
   "cell_type": "code",
   "execution_count": 82,
   "metadata": {},
   "outputs": [
    {
     "name": "stdout",
     "output_type": "stream",
     "text": [
      "(1 - x/k[1])*α[1]*x + (y*β[1, 2] + z*β[1, 3])*x\n",
      "y*(-y/k[2] + 1)*α[2] + y*(z*β[2, 3] + β[2, 1]*x)\n",
      "z*(y*β[3, 2] + β[3, 1]*x) + z*(-z/k[3] + 1)*α[3]\n"
     ]
    }
   ],
   "source": [
    "[print(eqs_arr[i].subs(x[1], x).subs(x[2], y).subs(x[3], z)) for i in range(n)];"
   ]
  },
  {
   "cell_type": "markdown",
   "metadata": {},
   "source": [
    "- Hay que tener cuidado con los β, pues son 4 o 6 en n = 2 o 3 especies respectivamente.\n",
    "- Podríamos asumir que β[1, 2] = β[2, 1] y así para todos, pero creo que algo se puede hacer teniendo esos β individuales.\n",
    "\n",
    "- Recordar que β[A, B] es como se ve afectado el crecimiento de la especie A debido a la especie B.\n",
    "- Recordar que x[1], x[2], x[3] = x, y, z.\n",
    "- Por ahí leí que si n >= 4 el sistema es caótico:\n",
    "https://stefanoallesina.github.io/Sao_Paulo_School/intro.html#multi-species-dynamics\n",
    "- https://www.frontiersin.org/articles/10.3389/fmicb.2019.00288/full"
   ]
  },
  {
   "cell_type": "markdown",
   "metadata": {},
   "source": [
    "### "
   ]
  },
  {
   "cell_type": "markdown",
   "metadata": {},
   "source": [
    "### Hallando los puntos de equilibrio tenemos: \n",
    "#### Nota: Tomará varios minutos y no he obtenido un resultado tras 5 min y una RAM casi llena :'v"
   ]
  },
  {
   "cell_type": "code",
   "execution_count": 83,
   "metadata": {},
   "outputs": [],
   "source": [
    "# sols3 = solve_for(n=3)\n",
    "# sols3"
   ]
  }
 ],
 "metadata": {
  "kernelspec": {
   "display_name": "Python 3.8.10 64-bit",
   "language": "python",
   "name": "python3"
  },
  "language_info": {
   "codemirror_mode": {
    "name": "ipython",
    "version": 3
   },
   "file_extension": ".py",
   "mimetype": "text/x-python",
   "name": "python",
   "nbconvert_exporter": "python",
   "pygments_lexer": "ipython3",
   "version": "3.8.10"
  },
  "orig_nbformat": 4,
  "vscode": {
   "interpreter": {
    "hash": "916dbcbb3f70747c44a77c7bcd40155683ae19c65e1c03b4aa3499c5328201f1"
   }
  }
 },
 "nbformat": 4,
 "nbformat_minor": 2
}
